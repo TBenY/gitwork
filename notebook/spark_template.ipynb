{
 "cells": [
  {
   "cell_type": "code",
   "execution_count": 1,
   "metadata": {
    "collapsed": false
   },
   "outputs": [
    {
     "name": "stdout",
     "output_type": "stream",
     "text": [
      "1.6.0\n",
      "local[*]\n"
     ]
    }
   ],
   "source": [
    "import os\n",
    "import sys\n",
    "\n",
    "# Set the path for spark installation\n",
    "# this is the path where you have extracted the spark file\n",
    "\n",
    "#os.environ['SPARK_HOME']=\"/usr/lib/spark\"\n",
    "os.environ['SPARK_HOME']='/home/ezerkar/spark-1.6.0-bin-hadoop2.6'\n",
    "\n",
    "sys.path.append( os.path.join(os.environ['SPARK_HOME'], 'python') )\n",
    "sys.path.append( os.path.join(os.environ['SPARK_HOME'], 'bin') )\n",
    "sys.path.append( os.path.join(os.environ['SPARK_HOME'], 'python/lib/py4j-0.9-src.zip') )\n",
    "\n",
    "from pyspark import SparkContext,SparkConf\n",
    "from pyspark.sql import SQLContext, Row\n",
    "#from pyspark.sql.types import *\n",
    "#import pyspark.sql.functions as sql\n",
    "\n",
    "\n",
    "sc = SparkContext()\n",
    "sqlContext = SQLContext(sc)\n",
    "\n",
    "print sc.version\n",
    "print sc.master"
   ]
  }
 ],
 "metadata": {
  "anaconda-cloud": {},
  "kernelspec": {
   "display_name": "Python [default]",
   "language": "python",
   "name": "python2"
  },
  "language_info": {
   "codemirror_mode": {
    "name": "ipython",
    "version": 2
   },
   "file_extension": ".py",
   "mimetype": "text/x-python",
   "name": "python",
   "nbconvert_exporter": "python",
   "pygments_lexer": "ipython2",
   "version": "2.7.12"
  }
 },
 "nbformat": 4,
 "nbformat_minor": 0
}
