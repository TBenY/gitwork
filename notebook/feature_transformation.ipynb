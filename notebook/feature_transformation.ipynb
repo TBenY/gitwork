{
 "cells": [
  {
   "cell_type": "code",
   "execution_count": 1,
   "metadata": {
    "collapsed": false
   },
   "outputs": [],
   "source": [
    "%matplotlib inline"
   ]
  },
  {
   "cell_type": "markdown",
   "metadata": {},
   "source": [
    "\n",
    "# Feature transformations with ensembles of trees\n",
    "\n",
    "\n",
    "Transform your features into a higher dimensional, sparse space. Then\n",
    "train a linear model on these features.\n",
    "\n",
    "First fit an ensemble of trees (totally random trees, a random\n",
    "forest, or gradient boosted trees) on the training set. Then each leaf\n",
    "of each tree in the ensemble is assigned a fixed arbitrary feature\n",
    "index in a new feature space. These leaf indices are then encoded in a\n",
    "one-hot fashion.\n",
    "\n",
    "Each sample goes through the decisions of each tree of the ensemble\n",
    "and ends up in one leaf per tree. The sample is encoded by setting\n",
    "feature values for these leaves to 1 and the other feature values to 0.\n",
    "\n",
    "The resulting transformer has then learned a supervised, sparse,\n",
    "high-dimensional categorical embedding of the data.\n",
    "\n"
   ]
  },
  {
   "cell_type": "code",
   "execution_count": 70,
   "metadata": {
    "collapsed": false
   },
   "outputs": [
    {
     "name": "stdout",
     "output_type": "stream",
     "text": [
      "233\n",
      "(117, 58, 58)\n"
     ]
    },
    {
     "data": {
      "text/plain": [
       "LogisticRegression(C=1.0, class_weight=None, dual=False, fit_intercept=True,\n",
       "          intercept_scaling=1, max_iter=100, multi_class='ovr', n_jobs=1,\n",
       "          penalty='l2', random_state=None, solver='liblinear', tol=0.0001,\n",
       "          verbose=0, warm_start=False)"
      ]
     },
     "execution_count": 70,
     "metadata": {},
     "output_type": "execute_result"
    }
   ],
   "source": [
    "# Author: Tim Head <betatim@gmail.com>\n",
    "#\n",
    "# License: BSD 3 clause\n",
    "\n",
    "import numpy as np\n",
    "np.random.seed(10)\n",
    "import pandas as pd\n",
    "import matplotlib.pyplot as plt\n",
    "\n",
    "from sklearn.datasets import make_classification\n",
    "from sklearn.linear_model import LogisticRegression\n",
    "from sklearn.ensemble import (RandomTreesEmbedding, RandomForestClassifier,\n",
    "                              GradientBoostingClassifier)\n",
    "from sklearn.preprocessing import OneHotEncoder\n",
    "from sklearn.model_selection import train_test_split\n",
    "from sklearn.metrics import roc_curve\n",
    "from sklearn.pipeline import make_pipeline\n",
    "\n",
    "result_= pd.read_csv('../../dev/risk_data.csv')\n",
    "print(len(result_))\n",
    "\n",
    "columns = ['RBI_STORY_POINTS', 'USERSTORIES_COUNT', 'RBI_TEAM_ID', 'RBI_THEME_ID','DEFECTS_CLOSED', 'DEFECTS_OPENED', 'RBI_RANK']\n",
    "\n",
    "def create_sklearn_compatible_x_y(df):\n",
    "    X = df[columns]\n",
    "    y = df.label.values\n",
    "    return X, y\n",
    "\n",
    "n_estimator = 10\n",
    "# X, y = make_classification(n_samples=80000)\n",
    "X, y = create_sklearn_compatible_x_y(result_)\n",
    "X = X.fillna(-1)\n",
    "\n",
    "X_train, X_test, y_train, y_test = train_test_split(X, y, test_size=0.5)\n",
    "# It is important to train the ensemble of trees on a different subset\n",
    "# of the training data than the linear regression model to avoid\n",
    "# overfitting, in particular if the total number of leaves is\n",
    "# similar to the number of training samples\n",
    "X_train, X_train_lr, y_train, y_train_lr = train_test_split(X_train,\n",
    "                                                            y_train,\n",
    "                                                            test_size=0.5)\n",
    "print(len(y_test), len(y_train_lr), len(y_train))\n",
    "# Supervised transformation based on random forests\n",
    "rf = RandomForestClassifier(max_depth=3, n_estimators=n_estimator)\n",
    "rf_enc = OneHotEncoder(categorical_features = [2,3])\n",
    "rf_lm = LogisticRegression()\n",
    "\n",
    "rf.fit(X_train, y_train)\n",
    "rf_enc.fit(rf.apply(X_train))\n",
    "rf_lm.fit(rf_enc.transform(rf.apply(X_train_lr)), y_train_lr)\n"
   ]
  },
  {
   "cell_type": "code",
   "execution_count": 67,
   "metadata": {
    "collapsed": false
   },
   "outputs": [
    {
     "data": {
      "text/plain": [
       "LogisticRegression(C=1.0, class_weight=None, dual=False, fit_intercept=True,\n",
       "          intercept_scaling=1, max_iter=100, multi_class='ovr', n_jobs=1,\n",
       "          penalty='l2', random_state=None, solver='liblinear', tol=0.0001,\n",
       "          verbose=0, warm_start=False)"
      ]
     },
     "execution_count": 67,
     "metadata": {},
     "output_type": "execute_result"
    }
   ],
   "source": [
    "lm = LogisticRegression()\n",
    "enc = OneHotEncoder(categorical_features = [2,3])\n",
    "\n",
    "\n",
    "lm.fit(X_train, y_train)\n",
    "# enc.fit(lm.fit(X_train))\n",
    "lm.fit(enc.transform(lm.transform(X_train_lr)), y_train_lr)"
   ]
  },
  {
   "cell_type": "code",
   "execution_count": 53,
   "metadata": {
    "collapsed": false
   },
   "outputs": [
    {
     "name": "stdout",
     "output_type": "stream",
     "text": [
      "             precision    recall  f1-score   support\n",
      "\n",
      "          0       0.90      0.91      0.90        95\n",
      "          1       0.57      0.55      0.56        22\n",
      "\n",
      "avg / total       0.83      0.84      0.84       117\n",
      "\n",
      "[[86  9]\n",
      " [10 12]]\n"
     ]
    }
   ],
   "source": [
    "# prob\n",
    "y_pred_rf_lm = rf_lm.predict_proba(rf_enc.transform(rf.apply(X_test)))[:, 1]\n",
    "fpr_rf_lm, tpr_rf_lm, _ = roc_curve(y_test, y_pred_rf_lm)\n",
    "\n",
    "y_rf_lm = rf_lm.predict(rf_enc.transform(rf.apply(X_test)))\n",
    "print(metrics.classification_report(y_test, y_rf_lm))\n",
    "print(metrics.confusion_matrix(y_test, y_rf_lm))\n"
   ]
  },
  {
   "cell_type": "code",
   "execution_count": 63,
   "metadata": {
    "collapsed": false
   },
   "outputs": [
    {
     "name": "stdout",
     "output_type": "stream",
     "text": [
      "             precision    recall  f1-score   support\n",
      "\n",
      "          0       0.93      0.94      0.93        95\n",
      "          1       0.71      0.68      0.70        22\n",
      "\n",
      "avg / total       0.89      0.89      0.89       117\n",
      "\n",
      "[[89  6]\n",
      " [ 7 15]]\n"
     ]
    }
   ],
   "source": [
    "\n",
    "grd = GradientBoostingClassifier(n_estimators=n_estimator)\n",
    "grd_enc = OneHotEncoder(categorical_features = [2,3])\n",
    "grd_lm = LogisticRegression()\n",
    "grd.fit(X_train, y_train)\n",
    "grd_enc.fit(grd.apply(X_train)[:, :, 0])\n",
    "grd_lm.fit(grd_enc.transform(grd.apply(X_train_lr)[:, :, 0]), y_train_lr)\n",
    "\n",
    "y_pred_grd_lm = grd_lm.predict_proba(\n",
    "    grd_enc.transform(grd.apply(X_test)[:, :, 0]))[:, 1]\n",
    "fpr_grd_lm, tpr_grd_lm, _ = roc_curve(y_test, y_pred_grd_lm)\n",
    "\n",
    "y_grd_lm = grd_lm.predict(\n",
    "    grd_enc.transform(grd.apply(X_test)[:, :, 0]))\n",
    "print(metrics.classification_report(y_test, y_grd_lm))\n",
    "print(metrics.confusion_matrix(y_test, y_grd_lm))"
   ]
  },
  {
   "cell_type": "code",
   "execution_count": 64,
   "metadata": {
    "collapsed": false,
    "scrolled": true
   },
   "outputs": [
    {
     "name": "stdout",
     "output_type": "stream",
     "text": [
      "             precision    recall  f1-score   support\n",
      "\n",
      "          0       0.92      0.94      0.93        95\n",
      "          1       0.70      0.64      0.67        22\n",
      "\n",
      "avg / total       0.88      0.88      0.88       117\n",
      "\n",
      "[[89  6]\n",
      " [ 8 14]]\n",
      "             precision    recall  f1-score   support\n",
      "\n",
      "          0       0.90      0.94      0.92        95\n",
      "          1       0.67      0.55      0.60        22\n",
      "\n",
      "avg / total       0.86      0.86      0.86       117\n",
      "\n",
      "[[89  6]\n",
      " [10 12]]\n"
     ]
    }
   ],
   "source": [
    "# The gradient boosted model by itself\n",
    "y_pred_grd = grd.predict_proba(X_test)[:, 1]\n",
    "fpr_grd, tpr_grd, _ = roc_curve(y_test, y_pred_grd)\n",
    "\n",
    "y_grd = grd.predict(X_test)\n",
    "print(metrics.classification_report(y_test, y_grd))\n",
    "print(metrics.confusion_matrix(y_test, y_grd))\n",
    "\n",
    "# The random forest model by itself\n",
    "y_pred_rf = rf.predict_proba(X_test)[:, 1]\n",
    "fpr_rf, tpr_rf, _ = roc_curve(y_test, y_pred_rf)\n",
    "y_rf = rf.predict(X_test)\n",
    "print(metrics.classification_report(y_test, y_rf))\n",
    "print(metrics.confusion_matrix(y_test, y_rf))"
   ]
  },
  {
   "cell_type": "code",
   "execution_count": 74,
   "metadata": {
    "collapsed": false
   },
   "outputs": [
    {
     "data": {
      "text/plain": [
       "Index([u'RBI_STORY_POINTS', u'USERSTORIES_COUNT', u'RBI_TEAM_ID',\n",
       "       u'RBI_THEME_ID', u'DEFECTS_CLOSED', u'DEFECTS_OPENED', u'RBI_RANK'],\n",
       "      dtype='object')"
      ]
     },
     "execution_count": 74,
     "metadata": {},
     "output_type": "execute_result"
    }
   ],
   "source": [
    "X_test.columns"
   ]
  },
  {
   "cell_type": "code",
   "execution_count": 44,
   "metadata": {
    "collapsed": true
   },
   "outputs": [],
   "source": [
    "# Unsupervised transformation based on totally random trees\n",
    "# rt = RandomTreesEmbedding(max_depth=3, n_estimators=n_estimator,\n",
    "# \trandom_state=0)\n",
    "\n",
    "# rt_lm = LogisticRegression()\n",
    "# pipeline = make_pipeline(rt, rt_lm)\n",
    "# pipeline.fit(X_train, y_train)\n",
    "# y_pred_rt = pipeline.predict_proba(X_test)[:, 1]\n",
    "# fpr_rt_lm, tpr_rt_lm, _ = roc_curve(y_test, y_pred_rt)"
   ]
  },
  {
   "cell_type": "code",
   "execution_count": 65,
   "metadata": {
    "collapsed": false
   },
   "outputs": [
    {
     "data": {
      "image/png": "[encoded data removed]",
      "text/plain": [
       "<matplotlib.figure.Figure at 0x117173c10>"
      ]
     },
     "metadata": {},
     "output_type": "display_data"
    },
    {
     "data": {
      "image/png": "[encoded data removed]",
      "text/plain": [
       "<matplotlib.figure.Figure at 0x1175d8ed0>"
      ]
     },
     "metadata": {},
     "output_type": "display_data"
    }
   ],
   "source": [
    "plt.figure(1)\n",
    "plt.plot([0, 1], [0, 1], 'k--')\n",
    "# plt.plot(fpr_rt_lm, tpr_rt_lm, label='RT + LR')\n",
    "plt.plot(fpr_rf, tpr_rf, label='RF')\n",
    "plt.plot(fpr_rf_lm, tpr_rf_lm, label='RF + LR')\n",
    "plt.plot(fpr_grd, tpr_grd, label='GBT')\n",
    "plt.plot(fpr_grd_lm, tpr_grd_lm, label='GBT + LR')\n",
    "plt.xlabel('False positive rate')\n",
    "plt.ylabel('True positive rate')\n",
    "plt.title('ROC curve')\n",
    "plt.legend(loc='best')\n",
    "plt.show()\n",
    "\n",
    "plt.figure(2)\n",
    "plt.xlim(0, 0.2)\n",
    "plt.ylim(0.8, 1)\n",
    "plt.plot([0, 1], [0, 1], 'k--')\n",
    "# plt.plot(fpr_rt_lm, tpr_rt_lm, label='RT + LR')\n",
    "plt.plot(fpr_rf, tpr_rf, label='RF')\n",
    "plt.plot(fpr_rf_lm, tpr_rf_lm, label='RF + LR')\n",
    "plt.plot(fpr_grd, tpr_grd, label='GBT')\n",
    "plt.plot(fpr_grd_lm, tpr_grd_lm, label='GBT + LR')\n",
    "plt.xlabel('False positive rate')\n",
    "plt.ylabel('True positive rate')\n",
    "plt.title('ROC curve (zoomed in at top left)')\n",
    "plt.legend(loc='best')\n",
    "plt.show()"
   ]
  },
  {
   "cell_type": "code",
   "execution_count": null,
   "metadata": {
    "collapsed": true
   },
   "outputs": [],
   "source": []
  }
 ],
 "metadata": {
  "anaconda-cloud": {},
  "kernelspec": {
   "display_name": "Python [default]",
   "language": "python",
   "name": "python2"
  },
  "language_info": {
   "codemirror_mode": {
    "name": "ipython",
    "version": 2
   },
   "file_extension": ".py",
   "mimetype": "text/x-python",
   "name": "python",
   "nbconvert_exporter": "python",
   "pygments_lexer": "ipython2",
   "version": "2.7.12"
  }
 },
 "nbformat": 4,
 "nbformat_minor": 0
}
