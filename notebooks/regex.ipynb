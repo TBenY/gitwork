{
 "cells": [
  {
   "cell_type": "code",
   "execution_count": 393,
   "metadata": {
    "collapsed": false,
    "scrolled": false
   },
   "outputs": [],
   "source": [
    "import requests, re, cPickle\n",
    "import pandas as pd\n",
    "from bs4 import BeautifulSoup\n",
    "# r = requests.get('https://api.github.com/user', auth=('TBenY', '1qazse4G'))\n",
    "# page = requests.get('https://info.yahoo.com/management-team')\n",
    "page = requests.get('http://www.ibm.com/investor/governance/executive-officers.html')\n",
    "page.content\n",
    "soup = BeautifulSoup(page.content)\n",
    "# soup"
   ]
  },
  {
   "cell_type": "code",
   "execution_count": 436,
   "metadata": {
    "collapsed": false
   },
   "outputs": [
    {
     "data": {
      "text/plain": [
       "u'<!DOCTYPE html PUBLIC \"-//W3C//DTD XHTML 1.0 Strict//EN\" \"http://www.w3.org/TR/xhtml1/DTD/xhtml1-strict.dtd\">\\n<html lang=\"en-ZZ\" xml:lang=\"en-ZZ\" xmlns=\"http://www.w3.org/1999/xhtml\">\\n<head>\\n<meta content=\"text/html; charset=UTF-8\" http-equiv=\"Content-Type\"/>\\n<link href=\"http://purl.org/DC/elements/1.0/\" rel=\"schema.DC\"/>\\n<link href=\"//www.ibm.com/favicon.ico\" rel=\"SHORTCUT ICON\"/>\\n<link href=\"http://www.ibm.com/investor/governance/executive-officers.html\" rel=\"canonical\"/>\\n<meta content=\"v17 delivery:ECM/Filegen authoring:ECM/IConS Adopter 45 - G584054X67626G22 - 03/20/2015 03:56:41 AM\" name=\"Source\"/>\\n<meta content=\"public\" name=\"Security\"/>\\n<meta content=\"IBM Corporation\" name=\"DC.Publisher\"/>\\n<meta content=\"Executive officers are the men and women who are driving IBM\\'s businesses.\" name=\"Description\"/>\\n<meta content=\"ZZ\" name=\"IBM.Country\"/>\\n<meta content=\"executive officers, corporate governance\" name=\"Keywords\"/>\\n<meta content=\"Robert Wilt/Armonk/IBM\" name=\"Owner\"/>\\n<meta content=\"index,follow\" name=\"Robots\"/>\\n<meta content=\"2013-09-25\" scheme=\"W3CDTF\" name=\"IBM.Effective\"/>\\n<meta content=\"2019-03-03\" scheme=\"W3CDTF\" name=\"IBM.Expires\"/>\\n<meta content=\"Executive officers are the men and women who are driving IBM\\'s businesses.\" name=\"Abstract\"/>\\n<meta content=\"en-ZZ\" scheme=\"rfc1766\" name=\"DC.Language\"/>\\n<meta content=\"2015-03-20\" scheme=\"iso8601\" name=\"DC.Date\"/>\\n<meta content=\"\\xc2\\xa9 Copyright IBM Corp. 2015, 2013\" name=\"DC.Rights\"/>\\n<meta content=\"IBM120\" scheme=\"IBM_SubjectTaxonomy\" name=\"DC.Subject\"/>\\n<meta content=\"CTB20\" scheme=\"IBM_ContentClassTaxonomy\" name=\"DC.Type\"/>\\n<meta content=\"ZZ\" scheme=\"IBM_IndustryTaxonomy\" name=\"IBM.Industry\"/>\\n\\n<!-- eTree :.: Title :.: Investor relations - Corporate governance | Executive officers-->\\n\\n<title>IBM Investor relations - Corporate governance | Executive officers</title>\\n<link href=\"//1.www.s81c.com/common/v17/css/www.css\" rel=\"stylesheet\" title=\"www\" type=\"text/css\"/>\\n<script src=\"//1.www.s81c.com/common/js/dojo/www.js\" type=\"text/javascript\">//</script>\\n<script type=\"text/javascript\">\\n\\t\\t\\t         ibmweb.config.set({\\n\\t\\t\\t\\t         subtabs: {\\n\\t\\t\\t\\t\\t         viewtext: {\\n\\t\\t\\t\\t\\t\\t         all: \\'View all...\\',\\n\\t\\t\\t\\t\\t\\t         less: \\'View less...\\'\\n\\t\\t\\t\\t\\t         }\\n\\t\\t\\t\\t         }\\n\\t\\t\\t         });\\n\\t                         </script>\\n<link href=\"/investor/css/cir-page.css\" rel=\"stylesheet\" type=\"text/css\"/>\\n\\n\\n\\n</head>\\n<!-- eTree :.: Breadcrumb trail :.: S164671R20888X94-->\\n<!-- eTree :.: Left navigation :.: -->\\n<!-- eTree :.: Tab navigation :.: G117130A42714F40-->\\n<body id=\"ibm-com\">\\n<div id=\"ibm-top\" class=\"ibm-landing-page\">\\n\\n<!-- MASTHEAD_BEGIN --><div id=\"ibm-masthead\">\\n<div id=\"ibm-mast-options\">\\n<ul>\\n<li id=\"ibm-geo\">\\n<a href=\"http://www.ibm.com/planetwide/select/selector.html\"><span class=\"ibm-access\">Select a country/region: </span>Worldwide</a></li>\\n</ul>\\n</div>\\n<div id=\"ibm-universal-nav\">\\n\\n<ul id=\"ibm-unav-links\">\\n<li id=\"ibm-home\"><a href=\"http://www.ibm.com/\">IBM\\xc2\\xae</a></li>\\n</ul>\\n<ul id=\"ibm-menu-links\">\\n<li><a href=\"http://www.ibm.com/sitemap/\">Site map</a></li>\\n</ul>\\n\\n<div id=\"ibm-search-module\">\\n<form id=\"ibm-search-form\" action=\"http://www.ibm.com/Search/\" method=\"get\">\\n<p><label for=\"sn\"><span class=\"ibm-access\">Search in:</span></label><select name=\"sn\" id=\"sn\"><option selected=\"selected\" value=\"26\">Investor relations search</option><option value=\"mh\">All of IBM</option></select>\\n<label for=\"q\"><span class=\"ibm-access\">Search</span></label>\\n<input type=\"text\" maxlength=\"100\" value=\"\" name=\"q\" id=\"q\"/>\\n<input type=\"hidden\" value=\"17\" name=\"v\"/>\\n<input type=\"hidden\" value=\"utf\" name=\"en\"/>\\n<input type=\"hidden\" value=\"en\" name=\"lang\"/>\\n<input type=\"hidden\" value=\"zz\" name=\"cc\"/>\\n<input type=\"submit\" id=\"ibm-search\" class=\"ibm-btn-search\" value=\"Submit\"/>\\n</p>\\n</form>\\n</div>\\n</div>\\n</div>\\n<!-- MASTHEAD_END -->\\n<!-- LEADSPACE_BEGIN -->\\n<!-- eTree :.: Background image :.: N043391H33329D70-->\\n<div id=\"ibm-leadspace-head\" class=\"ibm-alternate\" style=\"background: url(/investor/img/cir_corporate_governance.png) no-repeat 50% 50%;\">\\n<div id=\"ibm-leadspace-body\">\\n<!-- Breadcrumb trail: ICC8 - S164671R20888X94 -->\\n<ul id=\"ibm-navigation-trail\">\\n<li><a href=\"/investor/\">Investor relations</a></li>\\n<li><a href=\"/investor/governance/\">Corporate governance</a></li></ul>\\n<h1 class=\"ibm-small\">Executive officers</h1>\\n</div>\\n</div>\\n<!-- LEADSPACE_END -->\\n<!--\\n            TABS_BEGIN\\n        -->\\n<div id=\"ibm-content-nav\">\\n<div id=\"ibm-primary-tabs\" class=\"ibm-large-labels\">\\n<span class=\"ibm-access\">Primary tab navigation</span>\\n<ul class=\"ibm-tabs\"><li><a href=\"/investor/\">Overview</a></li>\\n<li><a href=\"/investor/financials/\">Financial info</a></li>\\n<li><a href=\"/investor/services/?subtabs=open\">Stockholder services</a></li>\\n<li><a href=\"/investor/events/\">News and events</a></li>\\n<li class=\"ibm-active \"><a href=\"/investor/governance/?subtabs=open\">Corporate governance</a><span class=\"ibm-access\"> - selected tab, </span></li>\\n<li><a href=\"/investor/help/\">Help</a></li>\\n</ul>\\n</div>\\n<!--\\n            Static SUB TABS_BEGIN\\n        -->\\n<div class=\"ibm-list-view\" id=\"ibm-secondary-tabs\">\\n<div class=\"ibm-columns\" id=\"ibm-secondary-tab-list\">\\n\\n<div class=\"ibm-col-6-1\">\\n<ul>\\n<li class=\"\"><a href=\"/investor/governance/?subtabs=open\" class=\"ibm-selected\">Corporate governance overview</a></li>\\n<li class=\"\"><a href=\"/investor/governance/board-of-directors.html?subtabs=open\">Board of directors</a></li>\\n<li class=\"\"><a href=\"/investor/governance/committees-of-the-board.html?subtabs=open\">Board committees</a></li>\\n</ul>\\n</div>\\n\\n<div class=\"ibm-col-6-1\">\\n<ul>\\n<li class=\"ibm-active \"><a href=\"/investor/governance/executive-officers.html?subtabs=open\" class=\"ibm-selected\">Executive officers</a></li>\\n<li class=\"\"><a href=\"/investor/governance/corporate-governance-guidelines.html?subtabs=open\">Corporate governance guidelines</a></li>\\n<li class=\"\"><a href=\"/investor/governance/corporate-trust-and-compliance.html?subtabs=open\">Trust and compliance</a></li>\\n</ul>\\n</div>\\n\\n<div class=\"ibm-col-6-1\">\\n<ul>\\n<li class=\"\"><a href=\"/investor/governance/business-conduct-guidelines.html?subtabs=open\" class=\"ibm-selected\">Business conduct guidelines</a></li>\\n<li class=\"\"><a href=\"/investor/governance/public-policy-matters.html?subtabs=open\">Political expenditures and public policy matters</a></li>\\n<li class=\"\"><a href=\"/investor/governance/certificate-of-incorporation.html?subtabs=open\">Certificate of incorporation</a></li>\\n</ul>\\n</div>\\n\\n<div class=\"ibm-col-6-1\">\\n<ul>\\n<li class=\"\"><a href=\"/investor/governance/by-laws.html?subtabs=open\" class=\"ibm-selected\">Bylaws</a></li>\\n<li class=\"\"><a href=\"/investor/governance/other-relationships.html?subtabs=open\">Other relationships</a></li>\\n<li class=\"\"><a href=\"/investor/governance/directors-compensation.html?subtabs=open\">Director compensation</a></li>\\n</ul>\\n</div>\\n\\n<div class=\"ibm-col-6-1\">\\n<ul>\\n<li class=\"\"><a href=\"/investor/governance/executive-compensation.html?subtabs=open\" class=\"ibm-selected\">Executive compensation</a></li>\\n<li class=\"\"><a href=\"/investor/governance/beneficial-ownership.html?subtabs=open\">Beneficial ownership</a></li>\\n<li class=\"\"><a href=\"/investor/governance/director-independence-standards.html?subtabs=open\">Director independence standards</a></li>\\n</ul>\\n</div>\\n\\n<div class=\"ibm-col-6-1\">\\n<ul>\\n<li class=\"\"><a href=\"/investor/governance/contact-the-board.html?subtabs=open\" class=\"ibm-selected\">Contact the board</a></li>\\n<li class=\"\"><a href=\"/investor/governance/director-attendance-at-annual-meeting.html?subtabs=open\">Director attendance at annual meeting of stockholders</a></li>\\n</ul>\\n</div>\\n\\n\\n</div>\\n</div>\\n</div>\\n<!--\\n            TABS_END\\n        --><div id=\"ibm-pcon\">\\n<div id=\"ibm-content\">\\n<div id=\"ibm-content-body\">\\n<div id=\"ibm-content-main\">\\n<!-- eTree :.: Main Content Grid :.: -->\\n<div class=\"ibm-columns\">\\n<!-- eTree :.: Column 6-4 :.: M743908H04018L73-->\\n<div class=\"ibm-col-6-4\">\\n\\n<!-- eTree :.: Fragment (Text) :.: I837045R42328V44 [I837045R42328V44]-->\\n\\n<!-- eTree :.: Fragment (List) :.: I837045R42328V44 [I837045R42328V44]-->\\n\\n<ul class=\"ibm-link-list\">\\n<li><a class=\"ibm-forward-link\" href=\"http://www.ibm.com/press/us/en/biographies.wss\">Press room biographies</a></li>\\n</ul>\\n<!-- eTree :.: Fragment (Text) :.: I837045R42328V44 [I837045R42328V44]-->\\n\\n<div class=\"ibm-rule\"><hr/>\\n</div>\\n\\n<!-- eTree :.: Fragment (List) :.: Z465577Y53309I79 [Z465577Y53309I79]-->\\n\\n\\n<ul class=\"ibm-portrait-module-list\">\\n<li>\\n<!-- eTree :.: Portrait-Image :.: M965389Z39615Y89-->\\n<img alt=\"Virginia M. Rometty\" height=\"60\" width=\"60\" src=\"/investor/img/rometty.jpg\"/>\\n<h3><a class=\"ibm-feature-link\" href=\"http://www.ibm.com/press/us/en/biography/10069.wss\">Virginia M. Rometty</a></h3>\\n<p>Chairman, President and Chief Executive Officer</p></li>\\n</ul>\\n\\n<!-- eTree :.: Fragment (Text) :.: Z465577Y53309I79 [Z465577Y53309I79]-->\\n\\n<div class=\"ibm-rule\"><hr/>\\n</div>\\n\\n\\n<!-- eTree :.: Fragment (List) :.: M697648A00492T07 [M697648A00492T07]-->\\n\\n\\n<ul class=\"ibm-portrait-module-list\">\\n<li>\\n<!-- eTree :.: Portrait-Image :.: P127547V00153I29-->\\n<img alt=\"Colleen Arnold\" height=\"60\" width=\"60\" src=\"/investor/img/EO60x60C_Arnold.jpg\"/>\\n<h3><a class=\"ibm-feature-link\" href=\"http://www.ibm.com/press/us/en/biography/30364.wss\">Colleen Arnold</a></h3>\\n<p>Senior Vice President, IBM Sales & Distribution</p></li>\\n</ul>\\n\\n<!-- eTree :.: Fragment (Text) :.: M697648A00492T07 [M697648A00492T07]-->\\n<div class=\"ibm-rule\"><hr /></div>\\n\\n<!-- eTree :.: Fragment (List) :.: N419936I16833G26 [N419936I16833G26]-->\\n\\n\\n<ul class=\"ibm-portrait-module-list\">\\n<li>\\n<!-- eTree :.: Portrait-Image :.: O421615V64536V74-->\\n<img alt=\"Simon J. Beaumont\" height=\"60\" width=\"60\" src=\"/investor/img/EO60x60Simon_Beaumont.jpg\"/>\\n<h3>Simon J. Beaumont</h3>\\n<p>Vice President and Treasurer</p></li>\\n</ul>\\n\\n<!-- eTree :.: Fragment (Text) :.: N419936I16833G26 [N419936I16833G26]-->\\n<div class=\"ibm-rule\"><hr /></div>\\n\\n<!-- eTree :.: Fragment (List) :.: S459693F29817J95 [S459693F29817J95]-->\\n\\n\\n<ul class=\"ibm-portrait-module-list\">\\n<li>\\n<!-- eTree :.: Portrait-Image :.: N113249T42621E68-->\\n<img alt=\"Michelle H. Browdy\" height=\"60\" width=\"60\" src=\"/investor/img/michelle_browdy.jpg\"/>\\n<h3><a class=\"ibm-feature-link\" href=\"http://www.ibm.com/press/us/en/biography/45762.wss\">Michelle H. Browdy</a></h3>\\n<p>Senior Vice President, Legal and Regulatory Affairs, and General Counsel</p></li>\\n</ul>\\n\\n<!-- eTree :.: Fragment (Text) :.: S459693F29817J95 [S459693F29817J95]-->\\n<div class=\"ibm-rule\"><hr /></div>\\n\\n<!-- eTree :.: Fragment (List) :.: L926182O81936Z61 [L926182O81936Z61]-->\\n\\n\\n<ul class=\"ibm-portrait-module-list\">\\n<li>\\n<!-- eTree :.: Portrait-Image :.: M995145J93102Q93-->\\n<img alt=\"Erich Clementi\" height=\"60\" width=\"60\" src=\"/investor/img/ERIC.jpg\"/>\\n<h3><a class=\"ibm-feature-link\" href=\"http://www.ibm.com/press/us/en/biography/23368.wss\">Erich Clementi</a></h3>\\n<p>Senior Vice President, IBM Sales & Distribution</p></li>\\n</ul>\\n\\n<!-- eTree :.: Fragment (Text) :.: L926182O81936Z61 [L926182O81936Z61]-->\\n<div class=\"ibm-rule\"><hr /></div>\\n\\n<!-- eTree :.: Fragment (List) :.: T096371T19382H87 [T096371T19382H87]-->\\n\\n\\n<ul class=\"ibm-portrait-module-list\">\\n<li>\\n<!-- eTree :.: Portrait-Image :.: Q170169L99203F59-->\\n<img alt=\"Bruno V. Di Leo\" height=\"60\" width=\"60\" src=\"/investor/img/EO60x60BrunoDiLeo.jpg\"/>\\n<h3><a class=\"ibm-feature-link\" href=\"http://www.ibm.com/press/us/en/biography/36710.wss\">Bruno V. Di Leo</a></h3>\\n<p>Senior Vice President, Sales and Distribution</p></li>\\n</ul>\\n\\n<!-- eTree :.: Fragment (Text) :.: T096371T19382H87 [T096371T19382H87]-->\\n\\n<div class=\"ibm-rule\"><hr/>\\n</div>\\n\\n<!-- eTree :.: Fragment (List) :.: F408986K17314U07 [F408986K17314U07]-->\\n\\n\\n<ul class=\"ibm-portrait-module-list\">\\n<li>\\n<!-- eTree :.: Portrait-Image :.: G583484J36455H09-->\\n<img alt=\"Diane Gherson\" height=\"60\" width=\"60\" src=\"/investor/img/EO60x60DianeGherson.jpg\"/>\\n<h3><a class=\"ibm-feature-link\" href=\"http://www.ibm.com/press/us/en/biography/41223.wss\">Diane Gherson</a></h3>\\n<p>Senior Vice President, Human Resources</p></li>\\n</ul>\\n\\n<!-- eTree :.: Fragment (Text) :.: F408986K17314U07 [F408986K17314U07]-->\\n\\n<div class=\"ibm-rule\"><hr/>\\n</div>\\n\\n<!-- eTree :.: Fragment (List) :.: L694162E36339S44 [L694162E36339S44]-->\\n\\n\\n<ul class=\"ibm-portrait-module-list\">\\n<li>\\n<!-- eTree :.: Portrait-Image :.: D237221G69632Y64-->\\n<img alt=\"Jon C. Iwata\" height=\"60\" width=\"60\" src=\"/investor/img/EO60x60JohnIwata.jpg\"/>\\n<h3><a class=\"ibm-feature-link\" href=\"http://www.ibm.com/press/us/en/biography/10063.wss\">Jon C. Iwata</a></h3>\\n<p>Senior Vice President, Marketing and Communications</p></li>\\n</ul>\\n\\n<!-- eTree :.: Fragment (Text) :.: L694162E36339S44 [L694162E36339S44]-->\\n\\n<div class=\"ibm-rule\"><hr/>\\n</div>\\n\\n<!-- eTree :.: Fragment (List) :.: O691685Z29514O59 [O691685Z29514O59]-->\\n\\n\\n<ul class=\"ibm-portrait-module-list\">\\n<li>\\n<!-- eTree :.: Portrait-Image :.: G530186C90704C96-->\\n<img alt=\"Martin Jetter\" height=\"60\" width=\"60\" src=\"/investor/img/EO60x60Martin_Jetter.jpg\"/>\\n<h3><a class=\"ibm-feature-link\" href=\"http://www.ibm.com/press/us/en/biography/45783.wss\">Martin Jetter</a></h3>\\n<p>Senior Vice President, IBM Global Technology Services</p></li>\\n</ul>\\n\\n<!-- eTree :.: Fragment (Text) :.: O691685Z29514O59 [O691685Z29514O59]-->\\n<div class=\"ibm-rule\"><hr /></div>\\n\\n<!-- eTree :.: Fragment (List) :.: Z934812Z29489K48 [Z934812Z29489K48]-->\\n\\n\\n<ul class=\"ibm-portrait-module-list\">\\n<li>\\n<!-- eTree :.: Portrait-Image :.: X916458H59017A85-->\\n<img alt=\"James J. Kavanaugh\" height=\"60\" width=\"60\" src=\"/investor/img/EO60x60James_Kavanaugh.jpg\"/>\\n<h3><a class=\"ibm-feature-link\" href=\"http://www.ibm.com/press/us/en/biography/45784.wss\">James J. Kavanaugh</a></h3>\\n<p>Senior Vice President, Transformation and Operations</p></li>\\n</ul>\\n\\n<!-- eTree :.: Fragment (Text) :.: Z934812Z29489K48 [Z934812Z29489K48]-->\\n<div class=\"ibm-rule\"><hr /></div>\\n\\n<!-- eTree :.: Fragment (List) :.: V633205T15958P09 [V633205T15958P09]-->\\n\\n\\n<ul class=\"ibm-portrait-module-list\">\\n<li>\\n<!-- eTree :.: Portrait-Image :.: W328228W27329Y98-->\\n<img alt=\"Dr. John Kelly\" height=\"60\" width=\"60\" src=\"/investor/img/kelly.jpg\"/>\\n<h3><a class=\"ibm-feature-link\" href=\"http://www.ibm.com/press/us/en/biography/10060.wss\">Dr. John E. Kelly, III</a></h3>\\n<p>Senior Vice President, Solutions Portfolio and Research</p></li>\\n</ul>\\n\\n<!-- eTree :.: Fragment (Text) :.: V633205T15958P09 [V633205T15958P09]-->\\n<div class=\"ibm-rule\"><hr /></div>\\n\\n<!-- eTree :.: Fragment (List) :.: H971563T95100I59 [H971563T95100I59]-->\\n\\n\\n<ul class=\"ibm-portrait-module-list\">\\n<li>\\n<!-- eTree :.: Portrait-Image :.: G297699G52297B53-->\\n<img alt=\"Kenneth M. Keverian\" height=\"60\" width=\"60\" src=\"/investor/img/keverian_60x60.png\"/>\\n<h3><a class=\"ibm-feature-link\" href=\"http://www.ibm.com/press/us/en/biography/44144.wss\">Kenneth M. Keverian</a></h3>\\n<p>Senior Vice President, Corporate Strategy</p></li>\\n</ul>\\n\\n<!-- eTree :.: Fragment (Text) :.: H971563T95100I59 [H971563T95100I59]-->\\n<div class=\"ibm-rule\">\\xc2\\xa0&#10;<hr></div>&#10;\\n\\n<!-- eTree :.: Fragment (List) :.: T212610V33354P30 [T212610V33354P30]-->\\n\\n\\n<ul class=\"ibm-portrait-module-list\">\\n<li>\\n<!-- eTree :.: Portrait-Image :.: Z224523F72073E46-->\\n<img alt=\"Arvind Krishna\" height=\"60\" width=\"60\" src=\"/investor/img/EO60x60Arvind_Krishna.jpg\"/>\\n<h3><a class=\"ibm-feature-link\" href=\"http://www.ibm.com/press/us/en/biography/45780.wss\">Arvind Krishna</a></h3>\\n<p>Senior Vice President and  Director of IBM Research</p></li>\\n</ul>\\n\\n<!-- eTree :.: Fragment (Text) :.: T212610V33354P30 [T212610V33354P30]-->\\n<div class=\"ibm-rule\"><hr /></div>\\n\\n<!-- eTree :.: Fragment (List) :.: Z962421N68990Q34 [Z962421N68990Q34]-->\\n\\n\\n<ul class=\"ibm-portrait-module-list\">\\n<li>\\n<!-- eTree :.: Portrait-Image :.: P958259M00464T97-->\\n<img alt=\"Robert LeBlanc\" height=\"60\" width=\"60\" src=\"/investor/img/EO60x60R_LeBlanc.jpg\"/>\\n<h3><a class=\"ibm-feature-link\" href=\"http://www.ibm.com/press/us/en/biography/30369.wss\">Robert J. LeBlanc</a></h3>\\n<p>Senior Vice President, IBM Cloud</p></li>\\n</ul>\\n\\n<!-- eTree :.: Fragment (Text) :.: Z962421N68990Q34 [Z962421N68990Q34]-->\\n<div class=\"ibm-rule\"><hr /></div>\\n\\n<!-- eTree :.: Fragment (List) :.: C368893I33158P86 [C368893I33158P86]-->\\n\\n\\n<ul class=\"ibm-portrait-module-list\">\\n<li>\\n<!-- eTree :.: Portrait-Image :.: C921269S48971W42-->\\n<img alt=\"Steven A. Mills\" height=\"60\" width=\"60\" src=\"/investor/img/mills.jpg\"/>\\n<h3><a class=\"ibm-feature-link\" href=\"http://www.ibm.com/press/us/en/biography/10066.wss\">Steven A. Mills</a></h3>\\n<p>Executive Vice President,  IBM Software and Systems</p></li>\\n</ul>\\n\\n<!-- eTree :.: Fragment (Text) :.: C368893I33158P86 [C368893I33158P86]-->\\n<div class=\"ibm-rule\"><hr /></div>\\n\\n<!-- eTree :.: Fragment (List) :.: H197298U33883C07 [H197298U33883C07]-->\\n\\n\\n<ul class=\"ibm-portrait-module-list\">\\n<li>\\n<h3>Christina M. Montgomery</h3>\\n<p>Vice President, Assistant General Counsel and Secretary</p></li>\\n</ul>\\n\\n<!-- eTree :.: Fragment (Text) :.: H197298U33883C07 [H197298U33883C07]-->\\n<div class=\"ibm-rule\"><hr /></div>\\n\\n<!-- eTree :.: Fragment (List) :.: W248283Q90916E28 [W248283Q90916E28]-->\\n\\n\\n<ul class=\"ibm-portrait-module-list\">\\n<li>\\n<!-- eTree :.: Portrait-Image :.: L823064Z65069H63-->\\n<img alt=\"Robert J. Picciano\" height=\"60\" width=\"60\" src=\"/investor/img/60X60Rober_Piccian2o.jpg\"/>\\n<h3><a class=\"ibm-feature-link\" href=\"http://www.ibm.com/press/us/en/biography/37520.wss\">Robert J. Picciano</a></h3>\\n<p>Senior Vice President,  IBM Analytics </p></li>\\n</ul>\\n\\n<!-- eTree :.: Fragment (Text) :.: W248283Q90916E28 [W248283Q90916E28]-->\\n<div class=\"ibm-rule\"><hr /></div>\\n\\n<!-- eTree :.: Fragment (List) :.: M933628Y31789Q13 [M933628Y31789Q13]-->\\n\\n\\n<ul class=\"ibm-portrait-module-list\">\\n<li>\\n<!-- eTree :.: Portrait-Image :.: X528320R21050Q66-->\\n<img alt=\"Michael D. Rhodin\" height=\"60\" width=\"60\" src=\"/investor/img/MichaelRhodin.jpg\"/>\\n<h3><a class=\"ibm-feature-link\" href=\"http://www.ibm.com/press/us/en/biography/30365.wss\">Michael D. Rhodin</a></h3>\\n<p>Senior Vice President, IBM Watson</p></li>\\n</ul>\\n\\n<!-- eTree :.: Fragment (Text) :.: M933628Y31789Q13 [M933628Y31789Q13]-->\\n<div class=\"ibm-rule\"><hr /></div>\\n\\n<!-- eTree :.: Fragment (List) :.: Y782739B86929X71 [Y782739B86929X71]-->\\n\\n\\n<ul class=\"ibm-portrait-module-list\">\\n<li>\\n<!-- eTree :.: Portrait-Image :.: C920040O70849Q32-->\\n<img alt=\"Tom Rosamilia\" height=\"60\" width=\"60\" src=\"/investor/img/EO60x60TomRosamilia.jpg\"/>\\n<h3><a class=\"ibm-feature-link\" href=\"http://www.ibm.com/press/us/en/biography/28747.wss\">Tom Rosamilia</a></h3>\\n<p>Senior Vice President, IBM Systems </p></li>\\n</ul>\\n\\n<!-- eTree :.: Fragment (Text) :.: Y782739B86929X71 [Y782739B86929X71]-->\\n<div class=\"ibm-rule\"><hr /></div>\\n\\n\\n<!-- eTree :.: Fragment (List) :.: M969961H08417X19 [M969961H08417X19]-->\\n\\n\\n<ul class=\"ibm-portrait-module-list\">\\n<li>\\n<!-- eTree :.: Portrait-Image :.: C350706U48855H02-->\\n<img alt=\"Martin Schroeter\" height=\"60\" width=\"60\" src=\"/investor/img/60X60MartinSchroeter.jpg\"/>\\n<h3><a class=\"ibm-feature-link\" href=\"http://www.ibm.com/press/us/en/biography/42876.wss\">Martin Schroeter</a></h3>\\n<p>Senior Vice President and Chief Financial Officer</p></li>\\n</ul>\\n\\n<!-- eTree :.: Fragment (Text) :.: M969961H08417X19 [M969961H08417X19]-->\\n<div class=\"ibm-rule\"><hr /></div>\\n\\n\\n<!-- eTree :.: Fragment (List) :.: J969768F92134C14 [J969768F92134C14]-->\\n\\n\\n<ul class=\"ibm-portrait-module-list\">\\n<li>\\n<!-- eTree :.: Portrait-Image :.: F935097S72214Z22-->\\n<img alt=\"Stanley J. Sutula III\" height=\"60\" width=\"60\" src=\"/investor/img/EO60x60Stanley_Sutula.jpg\"/>\\n<h3>Stanley J. Sutula III</h3>\\n<p>Vice President and Controller</p></li>\\n</ul>\\n\\n<!-- eTree :.: Fragment (Text) :.: J969768F92134C14 [J969768F92134C14]-->\\n<div class=\"ibm-rule\"><hr /></div>\\n\\n<!-- eTree :.: Fragment (List) :.: N881372F27530I74 [N881372F27530I74]-->\\n\\n\\n<ul class=\"ibm-portrait-module-list\">\\n<li>\\n<!-- eTree :.: Portrait-Image :.: I020881B24693J68-->\\n<img alt=\"Bridget A. van Kralingen\" height=\"60\" width=\"60\" src=\"/investor/img/EO60x60BridgetvanKralingen.jpg\"/>\\n<h3><a class=\"ibm-feature-link\" href=\"http://www.ibm.com/press/us/en/biography/36900.wss\">Bridget A. van Kralingen</a></h3>\\n<p>Senior Vice President, IBM Global Business Services</p></li>\\n</ul>\\n\\n<!-- eTree :.: Fragment (Text) :.: N881372F27530I74 [N881372F27530I74]-->\\n<p class=\"ibm-ind-link ibm-back-to-top\"><a class=\"ibm-anchor-up-link\" href=\"#ibm-content\">Back to top</a></p>\\n\\n\\n</div>\\n<!-- eTree :.: /Column :.: -->\\n\\n<!-- eTree :.: Column 6-2 :.: H717812C92433O94-->\\n<div class=\"ibm-col-6-2\">\\n\\n<!-- eTree :.: Fragment (Text) :.: P471759D98325D60 [P471759D98325D60]-->\\n<h2 class=\"ibm-rule\">Investor relations search</h2>\\n<!-- eTree :.: Fragment (Form) :.: P471759D98325D60 [E827812C70229J70]-->\\n<form id=\"ecmccFormE827812C70229J70\" action=\"http://www.ibm.com/search/esas/search\" method=\"get\" class=\"ibm-column-form ibm-styled-form\" name=\"cir-search-form\"><p><label for=\"cir-search-site\">Search in:\\xc2\\xa0\\xc2\\xa0</label><span><select size=\"1 \" class=\"ibm-styled\" name=\"sn\" id=\"cir-search-site\"><option value=\"0\">All of IBM</option><option value=\"26\" selected=\"selected\">Investor relations</option><option value=\"27\">Investor relations FAQ</option></select></span></p>\\n<p><label for=\"cir-search-text\">For:\\xc2\\xa0\\xc2\\xa0</label><span><input title=\"\" id=\"cir-search-text\" type=\"text\" value=\"\" size=\"37\" class=\"iform\" name=\"q\" maxlength=\"100\"/></span></p>\\n<input id=\"i3_E827812C70229J70\" type=\"hidden\" value=\"17\" name=\"v\"/>\\n<input id=\"i4_E827812C70229J70\" type=\"hidden\" value=\"utf\" name=\"en\"/>\\n<input id=\"i5_E827812C70229J70\" type=\"hidden\" value=\"en\" name=\"lang\"/>\\n<input id=\"i6_E827812C70229J70\" type=\"hidden\" value=\"zz\" name=\"cc\"/>\\n<input id=\"i7_E827812C70229J70\" type=\"hidden\" value=\"Search\" name=\"Search\"/>\\n<div class=\"ibm-buttons-row\"><p><input style=\"margin-bottom:0\" class=\"ibm-btn-pri ibm-btn-small\" type=\"submit\" value=\"Search\" name=\"ibm-search\"/></p></div>\\n\\n</form>\\n\\n<!-- eTree :.: Fragment (List) :.: J939046S05057E33 [J939046S05057E33]-->\\n\\n<h2 class=\"ibm-rule\">Learn about IBM</h2>\\n<ul class=\"ibm-link-list\">\\n<li><a class=\"ibm-forward-link\" href=\"http://www.ibm.com/ibm/us/en/\">About IBM</a></li>\\n<li><a class=\"ibm-forward-link\" href=\"/investor/strategy/\">Our strategy</a></li>\\n<li><a class=\"ibm-forward-link\" href=\"http://www.ibm.com/press/\">Latest news</a></li>\\n<li><a class=\"ibm-forward-link\" href=\"http://www.ibm.com/ibm/responsibility/index.shtml\">Corporate responsibility</a></li>\\n<li><a class=\"ibm-forward-link\" href=\"http://www.ibm.com/ibm/history/index.html\">IBM Archives</a></li>\\n</ul>\\n\\n\\n<!-- eTree :.: Fragment (List) :.: Y501795E22853V11 [Y501795E22853V11]-->\\n\\n<h2 class=\"ibm-rule\">Help and feedback</h2>\\n<ul class=\"ibm-link-list\">\\n<li><a class=\"ibm-forward-link\" href=\"/investor/help/\">FAQ</a></li>\\n<li><a class=\"ibm-forward-link\" href=\"/investor/help/glossary.html\">Glossary</a></li>\\n<li><a class=\"ibm-forward-link\" href=\"/investor/help/guide/\">Guide to financial statements</a></li>\\n<li><a class=\"ibm-forward-link\" href=\"/investor/help/reports/\">How to read annual reports</a></li>\\n<li><a class=\"ibm-forward-link\" href=\"/investor/feedback/\">Provide feedback</a></li>\\n</ul>\\n\\n<!-- eTree :.: Fragment (List) :.: K961765Y27446K83 [K961765Y27446K83]-->\\n\\n<h2 class=\"ibm-rule\">Investor relations subscriptions</h2>\\n<ul class=\"ibm-link-list\">\\n<li><a class=\"ibm-forward-link\" href=\"/investor/feeds/\">RSS feeds</a></li>\\n</ul>\\n\\n</div>\\n<!-- eTree :.: /Column :.: -->\\n\\n</div>\\n<!-- eTree :.: /Main Content Grid :.: -->\\n\\n</div>\\n</div>\\n</div>\\n</div>\\n<div id=\"ibm-related-content\">\\n<!-- RELATED_CONTENT_BEGIN -->\\n\\n \\n<div id=\"ibm-merchandising-module\">\\n<!-- ibm-merchandising-module -->\\n</div>\\n\\n<!-- RELATED_CONTENT_END -->\\n</div>\\n<!-- FOOTER_BEGIN -->\\n<div id=\"ibm-footer-module\">\\n</div>\\n<div id=\"ibm-footer\">\\n<h2 class=\"ibm-access\">Footer links\\n</h2>\\n<ul>\\n<li><a href=\"http://www.ibm.com/contact/\">Contact</a></li>\\n<li><a href=\"http://www.ibm.com/privacy/\">Privacy</a></li>\\n<li><a href=\"http://www.ibm.com/legal/\">Terms of use</a></li>\\n</ul>\\n</div>\\n<!-- FOOTER_END -->\\n</div>\\n<div id=\"ibm-metrics\">\\n<script src=\"//www.ibm.com/common/stats/stats.js\" type=\"text/javascript\">//</script>\\n</div>\\n</body>\\n</html>'"
      ]
     },
     "execution_count": 436,
     "metadata": {},
     "output_type": "execute_result"
    }
   ],
   "source": [
    "page.text"
   ]
  },
  {
   "cell_type": "code",
   "execution_count": 372,
   "metadata": {
    "collapsed": false
   },
   "outputs": [
    {
     "data": {
      "text/plain": [
       "''"
      ]
     },
     "execution_count": 372,
     "metadata": {},
     "output_type": "execute_result"
    }
   ],
   "source": [
    "g=match.group()\n",
    "# g ='Marissa Mayer'\n",
    "\n",
    "' '.join([subname for subname in g.split() if subname in Fname+Lname])"
   ]
  },
  {
   "cell_type": "code",
   "execution_count": 124,
   "metadata": {
    "collapsed": true
   },
   "outputs": [],
   "source": [
    "def readingcsv2list (file):\n",
    "    firstname_kb = pd.read_csv(file)#, encoding=\"utf_8\")\n",
    "    return list(firstname_kb['name'].str.lower())"
   ]
  },
  {
   "cell_type": "code",
   "execution_count": 356,
   "metadata": {
    "collapsed": false
   },
   "outputs": [
    {
     "data": {
      "text/plain": [
       "'john'"
      ]
     },
     "execution_count": 356,
     "metadata": {},
     "output_type": "execute_result"
    }
   ],
   "source": [
    "file = '/Users/tbenyakar/Documents/data/firstname_kb.csv'\n",
    "g = 'Tal Amir'\n",
    "# g = 'Tal search'\n",
    "firstname_kb = pd.read_csv(file)\n",
    "firstname_kb['name'] = firstname_kb['name'].str.lower()\n",
    "len(firstname_kb)\n",
    "firstname_kb = firstname_kb[firstname_kb.confidence>0.45]\n",
    "len(firstname_kb)\n",
    "file = '/Users/tbenyakar/Documents/data/lastname_kb.csv'\n",
    "lastname_kb = pd.read_csv(file)\n",
    "lastname_kb['name'] = lastname_kb['name'].str.lower()\n",
    "len(lastname_kb)\n",
    "lastname_kb = lastname_kb[lastname_kb.confidence>0.5]\n",
    "len(lastname_kb)\n",
    "# (len(firstname_kb[firstname_kb.name == g[0]]) +len(lastname_kb[lastname_kb.name == g[1]]))==0 or (len(firstname_kb[firstname_kb.name == g[1]]) +len(lastname_kb[lastname_kb.name == g[0]]))==0\n",
    "\n",
    "# if lirstname_kb.name == 'search':\n",
    "#     print(lirstname_kb.confidence)\n",
    "firstname_kb.name[0]"
   ]
  },
  {
   "cell_type": "code",
   "execution_count": 323,
   "metadata": {
    "collapsed": false
   },
   "outputs": [
    {
     "data": {
      "text/plain": [
       "78110"
      ]
     },
     "execution_count": 323,
     "metadata": {},
     "output_type": "execute_result"
    }
   ],
   "source": [
    "len(lastname_kb[lastname_kb.confidence>0.5])\n"
   ]
  },
  {
   "cell_type": "code",
   "execution_count": 373,
   "metadata": {
    "collapsed": false
   },
   "outputs": [],
   "source": [
    "titles = cPickle.load( open(\"alltitles.p\", \"rb\" ))\n",
    "# file = '/Users/tbenyakar/Documents/data/firstname_kb.csv'\n",
    "# Fnames = readingcsv2list (file)\n",
    "# file = '/Users/tbenyakar/Documents/data/lastname_kb.csv'\n",
    "# Lnames = readingcsv2list (file)\n",
    "\n",
    "# allnames = [unicode(n , errors='ignore') for n in Fnames + Lnames if isinstance(n, str)]\n",
    "# allnames[allnames.index('search')]\n",
    "# Lnames.count(unicode('web'))"
   ]
  },
  {
   "cell_type": "code",
   "execution_count": 424,
   "metadata": {
    "collapsed": false
   },
   "outputs": [],
   "source": [
    "# Lnames.index('search')\n",
    "# Lnames[45500:45505]\n",
    "# matchObj4 = re.findall(r'\\b([a-zA-Z]+(?:\\.)?(?:(?:|+\\s[a-zA-Z])\\b', page.text)\n",
    "# print re.findall(r\"\\b^([a-zA-Z]+(?:\\.)?(?:(?:'| )[a-zA-Z]+(?:\\.)?)*)$\\b\", 'Billy B. Bob Jr.')\n",
    "Names = [] \n",
    "matchObj_1M = re.finditer(r'\\b([A-Z][a-z]+\\s[A-Z]\\.+\\s[A-Z][a-z]+)\\b',page.text)\n",
    "for match in matchObj_1M:\n",
    "    g=match.group().encode('ascii','ignore')\n",
    "    Names.append(g)\n",
    "    "
   ]
  },
  {
   "cell_type": "code",
   "execution_count": 435,
   "metadata": {
    "collapsed": false
   },
   "outputs": [
    {
     "data": {
      "text/plain": [
       "['Director', 'Executive Vice President', 'officer', 'director']"
      ]
     },
     "execution_count": 435,
     "metadata": {},
     "output_type": "execute_result"
    }
   ],
   "source": [
    "[tit for tit in titles if page.text.find(tit) !=-1]"
   ]
  },
  {
   "cell_type": "code",
   "execution_count": 438,
   "metadata": {
    "collapsed": false
   },
   "outputs": [
    {
     "name": "stdout",
     "output_type": "stream",
     "text": [
      "robert wilt\n",
      "colleen arnold\n",
      "colleen arnold\n",
      "senior vice\n",
      "vice president\n",
      "senior vice\n",
      "erich clementi\n",
      "erich clementi\n",
      "senior vice\n",
      "di leo\n",
      "di leo\n",
      "senior vice\n",
      "senior vice\n",
      "human resources\n",
      "senior vice\n",
      "martin jetter\n",
      "martin jetter\n",
      "senior vice\n",
      "senior vice\n",
      "john kelly\n",
      "senior vice\n",
      "senior vice\n",
      "arvind krishna\n",
      "arvind krishna\n",
      "senior vice\n",
      "senior vice\n",
      "vice president\n",
      "senior vice\n",
      "senior vice\n",
      "senior vice\n",
      "martin schroeter\n",
      "martin schroeter\n",
      "senior vice\n",
      "vice president\n",
      "senior vice\n"
     ]
    }
   ],
   "source": [
    "matchObj2 = re.finditer(r'\\b([A-Z][a-z]+\\s[A-Z][a-z]+)\\b',page.text)\n",
    "matchObj3 = re.finditer(r'\\b([A-Z][a-z]+\\s[A-Z][a-z]+\\s[A-Z][a-z]+)\\b',page.text)\n",
    "# matchObj4 = re.finditer( r'\\b([a-zA-Z]+(?:\\.)?(?:(?:|+\\s[a-zA-Z])\\b', page.text)\n",
    "execnames = []\n",
    "for match in matchObj2:\n",
    "    g=match.group().lower().encode('ascii','ignore')\n",
    "#     print(g)\n",
    "#     g0,g1 = g.split()\n",
    "    if (len(firstname_kb[firstname_kb.name == g.split()[0]]) + len(lastname_kb[lastname_kb.name == g.split()[1]]))==2 or (len(firstname_kb[firstname_kb.name == g.split()[1]]) + len(lastname_kb[lastname_kb.name == g.split()[0]]))==2:\n",
    "#         print(g)\n",
    "#     execname = ' '.join([subname for subname in g.split() if allnames.count(g[0])>0 and allnames.count(g[1])>0])\n",
    "        if len(g.split())==2 or len(g.split())==3:\n",
    "            execnames.append(g)\n",
    "            print g\n",
    "#         print \"'{g}' was found between the indices {s}\".format(g=match.group(), s=match.span())\n",
    "#     execnames = execnames.append(' '.join([subname for subname in g.split() if subname in Fname+Lname if subname not None]))"
   ]
  },
  {
   "cell_type": "code",
   "execution_count": 428,
   "metadata": {
    "collapsed": false
   },
   "outputs": [
    {
     "data": {
      "text/plain": [
       "[]"
      ]
     },
     "execution_count": 428,
     "metadata": {},
     "output_type": "execute_result"
    }
   ],
   "source": [
    "misleading = ['senior vice']\n",
    "execnames = [execname for execname in execnames if execname not in titles+]\n",
    "execnames"
   ]
  },
  {
   "cell_type": "code",
   "execution_count": 439,
   "metadata": {
    "collapsed": false
   },
   "outputs": [
    {
     "data": {
      "text/plain": [
       "False"
      ]
     },
     "execution_count": 439,
     "metadata": {},
     "output_type": "execute_result"
    }
   ],
   "source": [
    "g='Marissa Mayer'\n",
    "(len(firstname_kb[firstname_kb.name == g.split()[0]]) + len(lastname_kb[lastname_kb.name == g.split()[1]]))==2"
   ]
  },
  {
   "cell_type": "code",
   "execution_count": 443,
   "metadata": {
    "collapsed": false
   },
   "outputs": [
    {
     "data": {
      "text/html": [
       "<div style=\"max-height:1000px;max-width:1500px;overflow:auto;\">\n",
       "<table border=\"1\" class=\"dataframe\">\n",
       "  <thead>\n",
       "    <tr style=\"text-align: right;\">\n",
       "      <th></th>\n",
       "      <th>name</th>\n",
       "      <th>confidence</th>\n",
       "    </tr>\n",
       "  </thead>\n",
       "  <tbody>\n",
       "    <tr>\n",
       "      <th>0    </th>\n",
       "      <td>         john</td>\n",
       "      <td> 0.800000</td>\n",
       "    </tr>\n",
       "    <tr>\n",
       "      <th>1    </th>\n",
       "      <td>        david</td>\n",
       "      <td> 0.794265</td>\n",
       "    </tr>\n",
       "    <tr>\n",
       "      <th>2    </th>\n",
       "      <td>      michael</td>\n",
       "      <td> 0.787890</td>\n",
       "    </tr>\n",
       "    <tr>\n",
       "      <th>3    </th>\n",
       "      <td>       robert</td>\n",
       "      <td> 0.781660</td>\n",
       "    </tr>\n",
       "    <tr>\n",
       "      <th>4    </th>\n",
       "      <td>        james</td>\n",
       "      <td> 0.773511</td>\n",
       "    </tr>\n",
       "    <tr>\n",
       "      <th>5    </th>\n",
       "      <td>         mark</td>\n",
       "      <td> 0.773494</td>\n",
       "    </tr>\n",
       "    <tr>\n",
       "      <th>6    </th>\n",
       "      <td>         mike</td>\n",
       "      <td> 0.768151</td>\n",
       "    </tr>\n",
       "    <tr>\n",
       "      <th>7    </th>\n",
       "      <td>      richard</td>\n",
       "      <td> 0.765223</td>\n",
       "    </tr>\n",
       "    <tr>\n",
       "      <th>8    </th>\n",
       "      <td>         paul</td>\n",
       "      <td> 0.762871</td>\n",
       "    </tr>\n",
       "    <tr>\n",
       "      <th>9    </th>\n",
       "      <td>        steve</td>\n",
       "      <td> 0.762716</td>\n",
       "    </tr>\n",
       "    <tr>\n",
       "      <th>10   </th>\n",
       "      <td>          jim</td>\n",
       "      <td> 0.758845</td>\n",
       "    </tr>\n",
       "    <tr>\n",
       "      <th>11   </th>\n",
       "      <td>      william</td>\n",
       "      <td> 0.758482</td>\n",
       "    </tr>\n",
       "    <tr>\n",
       "      <th>12   </th>\n",
       "      <td>        chris</td>\n",
       "      <td> 0.756906</td>\n",
       "    </tr>\n",
       "    <tr>\n",
       "      <th>13   </th>\n",
       "      <td>        brian</td>\n",
       "      <td> 0.755063</td>\n",
       "    </tr>\n",
       "    <tr>\n",
       "      <th>14   </th>\n",
       "      <td>        scott</td>\n",
       "      <td> 0.752964</td>\n",
       "    </tr>\n",
       "    <tr>\n",
       "      <th>15   </th>\n",
       "      <td>          tom</td>\n",
       "      <td> 0.751145</td>\n",
       "    </tr>\n",
       "    <tr>\n",
       "      <th>16   </th>\n",
       "      <td>         bill</td>\n",
       "      <td> 0.749571</td>\n",
       "    </tr>\n",
       "    <tr>\n",
       "      <th>17   </th>\n",
       "      <td>         jeff</td>\n",
       "      <td> 0.749482</td>\n",
       "    </tr>\n",
       "    <tr>\n",
       "      <th>18   </th>\n",
       "      <td>       thomas</td>\n",
       "      <td> 0.749147</td>\n",
       "    </tr>\n",
       "    <tr>\n",
       "      <th>19   </th>\n",
       "      <td>         mary</td>\n",
       "      <td> 0.747624</td>\n",
       "    </tr>\n",
       "    <tr>\n",
       "      <th>20   </th>\n",
       "      <td>        kevin</td>\n",
       "      <td> 0.747386</td>\n",
       "    </tr>\n",
       "    <tr>\n",
       "      <th>21   </th>\n",
       "      <td>          bob</td>\n",
       "      <td> 0.745012</td>\n",
       "    </tr>\n",
       "    <tr>\n",
       "      <th>22   </th>\n",
       "      <td>         gary</td>\n",
       "      <td> 0.744677</td>\n",
       "    </tr>\n",
       "    <tr>\n",
       "      <th>23   </th>\n",
       "      <td>        susan</td>\n",
       "      <td> 0.744631</td>\n",
       "    </tr>\n",
       "    <tr>\n",
       "      <th>24   </th>\n",
       "      <td>        peter</td>\n",
       "      <td> 0.744358</td>\n",
       "    </tr>\n",
       "    <tr>\n",
       "      <th>25   </th>\n",
       "      <td>     jennifer</td>\n",
       "      <td> 0.744007</td>\n",
       "    </tr>\n",
       "    <tr>\n",
       "      <th>26   </th>\n",
       "      <td>        linda</td>\n",
       "      <td> 0.742899</td>\n",
       "    </tr>\n",
       "    <tr>\n",
       "      <th>27   </th>\n",
       "      <td>        karen</td>\n",
       "      <td> 0.741369</td>\n",
       "    </tr>\n",
       "    <tr>\n",
       "      <th>28   </th>\n",
       "      <td>         lisa</td>\n",
       "      <td> 0.740414</td>\n",
       "    </tr>\n",
       "    <tr>\n",
       "      <th>29   </th>\n",
       "      <td>         dave</td>\n",
       "      <td> 0.739338</td>\n",
       "    </tr>\n",
       "    <tr>\n",
       "      <th>...</th>\n",
       "      <td>...</td>\n",
       "      <td>...</td>\n",
       "    </tr>\n",
       "    <tr>\n",
       "      <th>11322</th>\n",
       "      <td>       sawyer</td>\n",
       "      <td> 0.450000</td>\n",
       "    </tr>\n",
       "    <tr>\n",
       "      <th>11323</th>\n",
       "      <td>       swarna</td>\n",
       "      <td> 0.450000</td>\n",
       "    </tr>\n",
       "    <tr>\n",
       "      <th>11324</th>\n",
       "      <td>     shantell</td>\n",
       "      <td> 0.450000</td>\n",
       "    </tr>\n",
       "    <tr>\n",
       "      <th>11325</th>\n",
       "      <td>      aleisha</td>\n",
       "      <td> 0.450000</td>\n",
       "    </tr>\n",
       "    <tr>\n",
       "      <th>11326</th>\n",
       "      <td>        radek</td>\n",
       "      <td> 0.450000</td>\n",
       "    </tr>\n",
       "    <tr>\n",
       "      <th>11327</th>\n",
       "      <td>         phat</td>\n",
       "      <td> 0.450000</td>\n",
       "    </tr>\n",
       "    <tr>\n",
       "      <th>11328</th>\n",
       "      <td>    rebecca d</td>\n",
       "      <td> 0.450000</td>\n",
       "    </tr>\n",
       "    <tr>\n",
       "      <th>11329</th>\n",
       "      <td>     marsha l</td>\n",
       "      <td> 0.450000</td>\n",
       "    </tr>\n",
       "    <tr>\n",
       "      <th>11330</th>\n",
       "      <td>         bita</td>\n",
       "      <td> 0.450000</td>\n",
       "    </tr>\n",
       "    <tr>\n",
       "      <th>11331</th>\n",
       "      <td>         kush</td>\n",
       "      <td> 0.450000</td>\n",
       "    </tr>\n",
       "    <tr>\n",
       "      <th>11332</th>\n",
       "      <td>        chika</td>\n",
       "      <td> 0.450000</td>\n",
       "    </tr>\n",
       "    <tr>\n",
       "      <th>11333</th>\n",
       "      <td>         hays</td>\n",
       "      <td> 0.450000</td>\n",
       "    </tr>\n",
       "    <tr>\n",
       "      <th>11334</th>\n",
       "      <td>   danielle l</td>\n",
       "      <td> 0.450000</td>\n",
       "    </tr>\n",
       "    <tr>\n",
       "      <th>11335</th>\n",
       "      <td>         nara</td>\n",
       "      <td> 0.450000</td>\n",
       "    </tr>\n",
       "    <tr>\n",
       "      <th>11336</th>\n",
       "      <td>        klint</td>\n",
       "      <td> 0.450000</td>\n",
       "    </tr>\n",
       "    <tr>\n",
       "      <th>11337</th>\n",
       "      <td>       chetna</td>\n",
       "      <td> 0.450000</td>\n",
       "    </tr>\n",
       "    <tr>\n",
       "      <th>11338</th>\n",
       "      <td>       ramani</td>\n",
       "      <td> 0.450000</td>\n",
       "    </tr>\n",
       "    <tr>\n",
       "      <th>11339</th>\n",
       "      <td>        cynda</td>\n",
       "      <td> 0.450000</td>\n",
       "    </tr>\n",
       "    <tr>\n",
       "      <th>11340</th>\n",
       "      <td>       ragini</td>\n",
       "      <td> 0.450000</td>\n",
       "    </tr>\n",
       "    <tr>\n",
       "      <th>11341</th>\n",
       "      <td>        waler</td>\n",
       "      <td> 0.450000</td>\n",
       "    </tr>\n",
       "    <tr>\n",
       "      <th>11342</th>\n",
       "      <td>     timmothy</td>\n",
       "      <td> 0.450000</td>\n",
       "    </tr>\n",
       "    <tr>\n",
       "      <th>11343</th>\n",
       "      <td>      rosette</td>\n",
       "      <td> 0.450000</td>\n",
       "    </tr>\n",
       "    <tr>\n",
       "      <th>11344</th>\n",
       "      <td>        arjen</td>\n",
       "      <td> 0.450000</td>\n",
       "    </tr>\n",
       "    <tr>\n",
       "      <th>11345</th>\n",
       "      <td>      linda p</td>\n",
       "      <td> 0.450000</td>\n",
       "    </tr>\n",
       "    <tr>\n",
       "      <th>11346</th>\n",
       "      <td>         mali</td>\n",
       "      <td> 0.450000</td>\n",
       "    </tr>\n",
       "    <tr>\n",
       "      <th>11347</th>\n",
       "      <td>        laith</td>\n",
       "      <td> 0.450000</td>\n",
       "    </tr>\n",
       "    <tr>\n",
       "      <th>11348</th>\n",
       "      <td>    patrick b</td>\n",
       "      <td> 0.450000</td>\n",
       "    </tr>\n",
       "    <tr>\n",
       "      <th>11349</th>\n",
       "      <td>       natale</td>\n",
       "      <td> 0.450000</td>\n",
       "    </tr>\n",
       "    <tr>\n",
       "      <th>11350</th>\n",
       "      <td>    kenneth t</td>\n",
       "      <td> 0.450000</td>\n",
       "    </tr>\n",
       "    <tr>\n",
       "      <th>11351</th>\n",
       "      <td> mark anthony</td>\n",
       "      <td> 0.450000</td>\n",
       "    </tr>\n",
       "  </tbody>\n",
       "</table>\n",
       "<p>11352 rows × 2 columns</p>\n",
       "</div>"
      ],
      "text/plain": [
       "               name  confidence\n",
       "0              john    0.800000\n",
       "1             david    0.794265\n",
       "2           michael    0.787890\n",
       "3            robert    0.781660\n",
       "4             james    0.773511\n",
       "5              mark    0.773494\n",
       "6              mike    0.768151\n",
       "7           richard    0.765223\n",
       "8              paul    0.762871\n",
       "9             steve    0.762716\n",
       "10              jim    0.758845\n",
       "11          william    0.758482\n",
       "12            chris    0.756906\n",
       "13            brian    0.755063\n",
       "14            scott    0.752964\n",
       "15              tom    0.751145\n",
       "16             bill    0.749571\n",
       "17             jeff    0.749482\n",
       "18           thomas    0.749147\n",
       "19             mary    0.747624\n",
       "20            kevin    0.747386\n",
       "21              bob    0.745012\n",
       "22             gary    0.744677\n",
       "23            susan    0.744631\n",
       "24            peter    0.744358\n",
       "25         jennifer    0.744007\n",
       "26            linda    0.742899\n",
       "27            karen    0.741369\n",
       "28             lisa    0.740414\n",
       "29             dave    0.739338\n",
       "...             ...         ...\n",
       "11322        sawyer    0.450000\n",
       "11323        swarna    0.450000\n",
       "11324      shantell    0.450000\n",
       "11325       aleisha    0.450000\n",
       "11326         radek    0.450000\n",
       "11327          phat    0.450000\n",
       "11328     rebecca d    0.450000\n",
       "11329      marsha l    0.450000\n",
       "11330          bita    0.450000\n",
       "11331          kush    0.450000\n",
       "11332         chika    0.450000\n",
       "11333          hays    0.450000\n",
       "11334    danielle l    0.450000\n",
       "11335          nara    0.450000\n",
       "11336         klint    0.450000\n",
       "11337        chetna    0.450000\n",
       "11338        ramani    0.450000\n",
       "11339         cynda    0.450000\n",
       "11340        ragini    0.450000\n",
       "11341         waler    0.450000\n",
       "11342      timmothy    0.450000\n",
       "11343       rosette    0.450000\n",
       "11344         arjen    0.450000\n",
       "11345       linda p    0.450000\n",
       "11346          mali    0.450000\n",
       "11347         laith    0.450000\n",
       "11348     patrick b    0.450000\n",
       "11349        natale    0.450000\n",
       "11350     kenneth t    0.450000\n",
       "11351  mark anthony    0.450000\n",
       "\n",
       "[11352 rows x 2 columns]"
      ]
     },
     "execution_count": 443,
     "metadata": {},
     "output_type": "execute_result"
    }
   ],
   "source": [
    "len(firstname_kb[firstname_kb.name == g.split()[0]])\n",
    "firstname_kb"
   ]
  },
  {
   "cell_type": "code",
   "execution_count": 157,
   "metadata": {
    "collapsed": false
   },
   "outputs": [
    {
     "data": {
      "text/plain": [
       "[u'marissa mayer',\n",
       " u'david filo',\n",
       " u'ken goldman',\n",
       " u'search less',\n",
       " u'search web',\n",
       " u'search web',\n",
       " u'corporate home',\n",
       " u'about us',\n",
       " u'press center',\n",
       " u'corporate home']"
      ]
     },
     "execution_count": 157,
     "metadata": {},
     "output_type": "execute_result"
    }
   ],
   "source": [
    "[execname for execname in execnames if execnameallnames]"
   ]
  },
  {
   "cell_type": "code",
   "execution_count": 165,
   "metadata": {
    "collapsed": false
   },
   "outputs": [
    {
     "data": {
      "text/plain": [
       "2"
      ]
     },
     "execution_count": 165,
     "metadata": {},
     "output_type": "execute_result"
    }
   ],
   "source": [
    "allnames.count()"
   ]
  },
  {
   "cell_type": "code",
   "execution_count": 111,
   "metadata": {
    "collapsed": false
   },
   "outputs": [
    {
     "data": {
      "text/plain": [
       "[1231]"
      ]
     },
     "execution_count": 111,
     "metadata": {},
     "output_type": "execute_result"
    }
   ],
   "source": [
    "[page.text.index(tit)for tit in titles]"
   ]
  },
  {
   "cell_type": "code",
   "execution_count": 77,
   "metadata": {
    "collapsed": false
   },
   "outputs": [
    {
     "name": "stdout",
     "output_type": "stream",
     "text": [
      "['accomplished', 'attempt']\n",
      "'accomplished' was found between the indices (14, 26)\n",
      "'attempt' was found between the indices (49, 56)\n"
     ]
    }
   ],
   "source": [
    "import re\n",
    "\n",
    "string = \"Once you have accomplished small things, you may attempt great ones safely.\"\n",
    "\n",
    "# Return all words beginning with character 'a', as a list of strings\n",
    "print re.findall(r\"\\ba[\\w]*\", string)\n",
    "# ['accomplished', 'attempt']\n",
    "\n",
    "# Return all words beginning with character 'a', as an iterator yielding match objects\n",
    "it = re.finditer(r\"\\ba[\\w]*\", string)\n",
    "for match in it:\n",
    "    print \"'{g}' was found between the indices {s}\".format(g=match.group(), s=match.span())"
   ]
  },
  {
   "cell_type": "code",
   "execution_count": 233,
   "metadata": {
    "collapsed": false
   },
   "outputs": [],
   "source": [
    "import requests\n",
    "from lxml import html\n",
    "url = 'https://info.yahoo.com/management-team'\n",
    "page = requests.get(url)\n",
    "htmlElement = html.fromstring(page.text)\n",
    "etree = htmlElement.getroottree()\n",
    "my_str = 'Marissa'\n",
    "for element in etree.xpath(\"//*[contains(text(), '\" + my_str + \"')]\"):\n",
    "    path = etree.getpath(element)\n",
    "    print(path)\n"
   ]
  },
  {
   "cell_type": "code",
   "execution_count": 239,
   "metadata": {
    "collapsed": false
   },
   "outputs": [
    {
     "ename": "TypeError",
     "evalue": "xpath() takes exactly 1 positional argument (0 given)",
     "output_type": "error",
     "traceback": [
      "\u001b[0;31m---------------------------------------------------------------------------\u001b[0m",
      "\u001b[0;31mTypeError\u001b[0m                                 Traceback (most recent call last)",
      "\u001b[0;32m<ipython-input-239-5bfaf335143b>\u001b[0m in \u001b[0;36m<module>\u001b[0;34m()\u001b[0m\n\u001b[0;32m----> 1\u001b[0;31m \u001b[0metree\u001b[0m\u001b[0;34m.\u001b[0m\u001b[0mxpath\u001b[0m\u001b[0;34m(\u001b[0m\u001b[0;34m)\u001b[0m\u001b[0;34m\u001b[0m\u001b[0m\n\u001b[0m",
      "\u001b[0;32mlxml.etree.pyx\u001b[0m in \u001b[0;36mlxml.etree._ElementTree.xpath (src/lxml/lxml.etree.c:59806)\u001b[0;34m()\u001b[0m\n",
      "\u001b[0;31mTypeError\u001b[0m: xpath() takes exactly 1 positional argument (0 given)"
     ]
    }
   ],
   "source": [
    "etree.xpath()"
   ]
  },
  {
   "cell_type": "code",
   "execution_count": null,
   "metadata": {
    "collapsed": true
   },
   "outputs": [],
   "source": []
  }
 ],
 "metadata": {
  "kernelspec": {
   "display_name": "Python 2",
   "language": "python",
   "name": "python2"
  },
  "language_info": {
   "codemirror_mode": {
    "name": "ipython",
    "version": 2
   },
   "file_extension": ".py",
   "mimetype": "text/x-python",
   "name": "python",
   "nbconvert_exporter": "python",
   "pygments_lexer": "ipython2",
   "version": "2.7.9"
  }
 },
 "nbformat": 4,
 "nbformat_minor": 0
}
