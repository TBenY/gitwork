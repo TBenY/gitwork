{
 "cells": [
  {
   "cell_type": "code",
   "execution_count": null,
   "metadata": {
    "collapsed": true
   },
   "outputs": [],
   "source": [
    "# http://textminingonline.com/tag/stanford-ner-for-python\n"
   ]
  },
  {
   "cell_type": "code",
   "execution_count": null,
   "metadata": {
    "collapsed": true
   },
   "outputs": [],
   "source": [
    "\n",
    "import nltk\n",
    "from nltk.tag.stanford import StanfordTagger\n",
    "nltk.internals.config_java(\"C:/Program Files/Java/jdk1.7.0_04/bin/java.exe\")\n",
    "path_to_model = \"C:/Dropbox/_Ubuntu/project/NLTK/src/lib/wsj-0-18-bidirectional-distsim.tagger\"\n",
    "path_to_jar = \"C:/Dropbox/_Ubuntu/project/NLTK/src/lib/stanford-postagger.jar\"\n",
    "\n",
    "tagger = StanfordTagger(path_to_model, path_to_jar)\n",
    "tokens = nltk.tokenize.word_tokenize(\"I hope this works!\")\n",
    "print tagger.tag(tokens)\n"
   ]
  }
 ],
 "metadata": {
  "kernelspec": {
   "display_name": "Python 2",
   "language": "python",
   "name": "python2"
  },
  "language_info": {
   "codemirror_mode": {
    "name": "ipython",
    "version": 2
   },
   "file_extension": ".py",
   "mimetype": "text/x-python",
   "name": "python",
   "nbconvert_exporter": "python",
   "pygments_lexer": "ipython2",
   "version": "2.7.9"
  }
 },
 "nbformat": 4,
 "nbformat_minor": 0
}
