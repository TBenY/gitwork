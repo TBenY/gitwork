{
 "cells": [
  {
   "cell_type": "code",
   "execution_count": 1,
   "metadata": {
    "collapsed": true
   },
   "outputs": [],
   "source": [
    "import pandas as pd\n",
    "from pandas import DataFrame\n",
    "import nltk\n",
    "\n",
    "def build_data_frame(data, classification):\n",
    "    data_frame = DataFrame({'text': [], 'cl': [], 'id':[]})\n",
    "    ids = []\n",
    "    for d in data:\n",
    "        idx = d['id']\n",
    "        if idx not in ids:\n",
    "            ids.append(idx)\n",
    "            # text = tokening(d['text'])\n",
    "            # data_frame = data_frame.append(DataFrame({'text': [text], 'class': classification}))\n",
    "            data_frame = data_frame.append(DataFrame({'text': d['text'], 'cl': classification, 'id': d['id']}))\n",
    "        else:\n",
    "            continue\n",
    "\n",
    "\n",
    "    return data_frame, ids\n",
    "\n",
    "# dataf = DataFrame({'text': [], 'class': []})\n",
    "# dataf = build_data_frame(data, [1])\n",
    "\n",
    "\n",
    "def tokening(text = ['']):\n",
    "    from nltk.corpus import stopwords\n",
    "    stop = stopwords.words('english')\n",
    "    from nltk.tokenize import RegexpTokenizer\n",
    "\n",
    "    tokenizer = RegexpTokenizer(r'\\w+')\n",
    "    # tokenizer = RegexpTokenizer(r'((?<=[^\\w\\s])\\w(?=[^\\w\\s])|(\\W))+', gaps=True)\n",
    "    tokens = tokenizer.tokenize(text)\n",
    "    return [t.lower() for t in tokens if t not in stop if len(t) > 1]"
   ]
  },
  {
   "cell_type": "code",
   "execution_count": 51,
   "metadata": {
    "collapsed": false
   },
   "outputs": [],
   "source": [
    "import pandas as pd\n",
    "from pandas import DataFrame\n",
    "import nltk\n",
    "\n",
    "data_frame = DataFrame({'compay': [], 'url1': []})\n",
    "CU2= {}\n",
    "for d,k in CU.items():\n",
    "    dF = DataFrame({'compay': d, 'url1': []})\n",
    "    for l in k:\n",
    "        CU2[d+'_'+str(k.index(l))] = l\n",
    "#         kurl = d+'_'+str(k.index(l))\n",
    "#         dF[kurl] = l\n",
    "#     data_frame = data_frame.append(dF)\n"
   ]
  },
  {
   "cell_type": "code",
   "execution_count": 107,
   "metadata": {
    "collapsed": false
   },
   "outputs": [],
   "source": [
    "data_frame = DataFrame({ 'url': [], 'executives':[], 'titles':[]}, )\n",
    "data_frame.loc['company'] =  [ 1, [1],[1]]\n",
    "data_frame.to_csv('/Users/tbenyakar/Documents/ExecURLs/DF.csv')"
   ]
  },
  {
   "cell_type": "code",
   "execution_count": 108,
   "metadata": {
    "collapsed": false
   },
   "outputs": [
    {
     "data": {
      "text/html": [
       "<div style=\"max-height:1000px;max-width:1500px;overflow:auto;\">\n",
       "<table border=\"1\" class=\"dataframe\">\n",
       "  <thead>\n",
       "    <tr style=\"text-align: right;\">\n",
       "      <th></th>\n",
       "      <th>executives</th>\n",
       "      <th>titles</th>\n",
       "      <th>url</th>\n",
       "    </tr>\n",
       "  </thead>\n",
       "  <tbody>\n",
       "    <tr>\n",
       "      <th>company</th>\n",
       "      <td> 1</td>\n",
       "      <td> [1]</td>\n",
       "      <td> [1]</td>\n",
       "    </tr>\n",
       "  </tbody>\n",
       "</table>\n",
       "</div>"
      ],
      "text/plain": [
       "         executives titles  url\n",
       "company           1    [1]  [1]"
      ]
     },
     "execution_count": 108,
     "metadata": {},
     "output_type": "execute_result"
    }
   ],
   "source": [
    "data_frame"
   ]
  },
  {
   "cell_type": "code",
   "execution_count": 13,
   "metadata": {
    "collapsed": false
   },
   "outputs": [
    {
     "name": "stdout",
     "output_type": "stream",
     "text": [
      "/Users/tbenyakar/Documents/gitwork/notebooks\r\n"
     ]
    }
   ],
   "source": [
    "import cPickle\n",
    "!pwd"
   ]
  },
  {
   "cell_type": "code",
   "execution_count": 45,
   "metadata": {
    "collapsed": false
   },
   "outputs": [
    {
     "data": {
      "text/html": [
       "<div style=\"max-height:1000px;max-width:1500px;overflow:auto;\">\n",
       "<table border=\"1\" class=\"dataframe\">\n",
       "  <thead>\n",
       "    <tr style=\"text-align: right;\">\n",
       "      <th></th>\n",
       "      <th>best buy_0</th>\n",
       "      <th>best buy_1</th>\n",
       "      <th>best buy_2</th>\n",
       "      <th>booz allen hamilton_0</th>\n",
       "      <th>booz allen hamilton_1</th>\n",
       "      <th>booz allen hamilton_2</th>\n",
       "      <th>chevron_0</th>\n",
       "      <th>chevron_1</th>\n",
       "      <th>chevron_2</th>\n",
       "      <th>cognizant technology solutions_0</th>\n",
       "      <th>...</th>\n",
       "      <th>procter &amp; gamble_0</th>\n",
       "      <th>procter &amp; gamble_1</th>\n",
       "      <th>the home depot_0</th>\n",
       "      <th>the home depot_1</th>\n",
       "      <th>the home depot_2</th>\n",
       "      <th>url1</th>\n",
       "      <th>usaf_0</th>\n",
       "      <th>walgreens_0</th>\n",
       "      <th>walgreens_1</th>\n",
       "      <th>walgreens_2</th>\n",
       "    </tr>\n",
       "  </thead>\n",
       "  <tbody>\n",
       "  </tbody>\n",
       "</table>\n",
       "<p>0 rows × 40 columns</p>\n",
       "</div>"
      ],
      "text/plain": [
       "Empty DataFrame\n",
       "Columns: [best buy_0, best buy_1, best buy_2, booz allen hamilton_0, booz allen hamilton_1, booz allen hamilton_2, chevron_0, chevron_1, chevron_2, cognizant technology solutions_0, cognizant technology solutions_1, compay, dell_0, dell_1, dell_2, emc_0, emc_1, emc_2, google_0, google_1, google_2, hp_0, hp_1, hp_2, merck_0, merck_1, merck_2, pfizer_0, pfizer_1, pfizer_2, procter & gamble_0, procter & gamble_1, the home depot_0, the home depot_1, the home depot_2, url1, usaf_0, walgreens_0, walgreens_1, walgreens_2]\n",
       "Index: []\n",
       "\n",
       "[0 rows x 40 columns]"
      ]
     },
     "execution_count": 45,
     "metadata": {},
     "output_type": "execute_result"
    }
   ],
   "source": [
    "data_frame"
   ]
  },
  {
   "cell_type": "code",
   "execution_count": 10,
   "metadata": {
    "collapsed": false
   },
   "outputs": [],
   "source": [
    "data_frame['url3'] = 'url'"
   ]
  },
  {
   "cell_type": "code",
   "execution_count": 52,
   "metadata": {
    "collapsed": false
   },
   "outputs": [
    {
     "data": {
      "text/plain": [
       "{'ibm_0': u'http://www.ibm.com/investor/governance/executive-officers.html',\n",
       " 'ibm_1': u'http://nesystems.com/company/leadership/',\n",
       " 'ibm_2': u'http://www.prolifics.com/company/leadership-team/executive-team'}"
      ]
     },
     "execution_count": 52,
     "metadata": {},
     "output_type": "execute_result"
    }
   ],
   "source": [
    "CU2"
   ]
  },
  {
   "cell_type": "code",
   "execution_count": 2,
   "metadata": {
    "collapsed": true
   },
   "outputs": [],
   "source": [
    "import cPickle, csv"
   ]
  },
  {
   "cell_type": "code",
   "execution_count": 3,
   "metadata": {
    "collapsed": false
   },
   "outputs": [],
   "source": [
    "CU2 = cPickle.load(open('/Users/tbenyakar/Documents/ExecURLs/files/CU2.p', 'rb'))"
   ]
  },
  {
   "cell_type": "code",
   "execution_count": 82,
   "metadata": {
    "collapsed": false
   },
   "outputs": [
    {
     "data": {
      "text/plain": [
       "496"
      ]
     },
     "execution_count": 82,
     "metadata": {},
     "output_type": "execute_result"
    }
   ],
   "source": [
    "len(CU2)"
   ]
  },
  {
   "cell_type": "code",
   "execution_count": 86,
   "metadata": {
    "collapsed": false
   },
   "outputs": [],
   "source": [
    "with open('CU2.csv', 'wb') as f:\n",
    "    w = csv.writer(f)\n",
    "    w.writerows(CU2.items())\n"
   ]
  },
  {
   "cell_type": "code",
   "execution_count": 92,
   "metadata": {
    "collapsed": false
   },
   "outputs": [],
   "source": [
    "df = DataFrame({'c':[], 'd':[],'e':[]})"
   ]
  },
  {
   "cell_type": "code",
   "execution_count": 78,
   "metadata": {
    "collapsed": false
   },
   "outputs": [],
   "source": [
    "df.loc['v']=0\n",
    "df.ix['v'] = 0"
   ]
  },
  {
   "cell_type": "code",
   "execution_count": 95,
   "metadata": {
    "collapsed": false
   },
   "outputs": [
    {
     "data": {
      "text/html": [
       "<div style=\"max-height:1000px;max-width:1500px;overflow:auto;\">\n",
       "<table border=\"1\" class=\"dataframe\">\n",
       "  <thead>\n",
       "    <tr style=\"text-align: right;\">\n",
       "      <th></th>\n",
       "      <th>c</th>\n",
       "      <th>d</th>\n",
       "      <th>e</th>\n",
       "    </tr>\n",
       "  </thead>\n",
       "  <tbody>\n",
       "    <tr>\n",
       "      <th>f</th>\n",
       "      <td> 1</td>\n",
       "      <td> 1</td>\n",
       "      <td> 1</td>\n",
       "    </tr>\n",
       "  </tbody>\n",
       "</table>\n",
       "</div>"
      ],
      "text/plain": [
       "   c  d  e\n",
       "f  1  1  1"
      ]
     },
     "execution_count": 95,
     "metadata": {},
     "output_type": "execute_result"
    }
   ],
   "source": [
    "df"
   ]
  },
  {
   "cell_type": "code",
   "execution_count": 94,
   "metadata": {
    "collapsed": false
   },
   "outputs": [],
   "source": [
    "df.loc['f']=[1,1,1]"
   ]
  },
  {
   "cell_type": "code",
   "execution_count": null,
   "metadata": {
    "collapsed": true
   },
   "outputs": [],
   "source": []
  },
  {
   "cell_type": "code",
   "execution_count": null,
   "metadata": {
    "collapsed": true
   },
   "outputs": [],
   "source": []
  },
  {
   "cell_type": "code",
   "execution_count": 6,
   "metadata": {
    "collapsed": false
   },
   "outputs": [],
   "source": [
    "C = cPickle.load(open('/Users/tbenyakar/Documents/ExecURLs/files/cantfind.p', 'rb'))"
   ]
  },
  {
   "cell_type": "code",
   "execution_count": 7,
   "metadata": {
    "collapsed": false
   },
   "outputs": [
    {
     "data": {
      "text/plain": [
       "[]"
      ]
     },
     "execution_count": 7,
     "metadata": {},
     "output_type": "execute_result"
    }
   ],
   "source": [
    "C\n"
   ]
  },
  {
   "cell_type": "code",
   "execution_count": null,
   "metadata": {
    "collapsed": true
   },
   "outputs": [],
   "source": []
  }
 ],
 "metadata": {
  "kernelspec": {
   "display_name": "Python 2",
   "language": "python",
   "name": "python2"
  },
  "language_info": {
   "codemirror_mode": {
    "name": "ipython",
    "version": 2
   },
   "file_extension": ".py",
   "mimetype": "text/x-python",
   "name": "python",
   "nbconvert_exporter": "python",
   "pygments_lexer": "ipython2",
   "version": "2.7.9"
  }
 },
 "nbformat": 4,
 "nbformat_minor": 0
}
