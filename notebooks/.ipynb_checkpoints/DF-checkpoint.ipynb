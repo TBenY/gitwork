{
 "cells": [
  {
   "cell_type": "code",
   "execution_count": 1,
   "metadata": {
    "collapsed": true
   },
   "outputs": [],
   "source": [
    "import pandas as pd\n",
    "from pandas import DataFrame\n",
    "import nltk\n",
    "\n",
    "def build_data_frame(data, classification):\n",
    "    data_frame = DataFrame({'text': [], 'cl': [], 'id':[]})\n",
    "    ids = []\n",
    "    for d in data:\n",
    "        idx = d['id']\n",
    "        if idx not in ids:\n",
    "            ids.append(idx)\n",
    "            # text = tokening(d['text'])\n",
    "            # data_frame = data_frame.append(DataFrame({'text': [text], 'class': classification}))\n",
    "            data_frame = data_frame.append(DataFrame({'text': d['text'], 'cl': classification, 'id': d['id']}))\n",
    "        else:\n",
    "            continue\n",
    "\n",
    "\n",
    "    return data_frame, ids\n",
    "\n",
    "# dataf = DataFrame({'text': [], 'class': []})\n",
    "# dataf = build_data_frame(data, [1])\n",
    "\n",
    "\n",
    "def tokening(text = ['']):\n",
    "    from nltk.corpus import stopwords\n",
    "    stop = stopwords.words('english')\n",
    "    from nltk.tokenize import RegexpTokenizer\n",
    "\n",
    "    tokenizer = RegexpTokenizer(r'\\w+')\n",
    "    # tokenizer = RegexpTokenizer(r'((?<=[^\\w\\s])\\w(?=[^\\w\\s])|(\\W))+', gaps=True)\n",
    "    tokens = tokenizer.tokenize(text)\n",
    "    return [t.lower() for t in tokens if t not in stop if len(t) > 1]"
   ]
  },
  {
   "cell_type": "code",
   "execution_count": null,
   "metadata": {
    "collapsed": true
   },
   "outputs": [],
   "source": [
    "import pandas as pd\n",
    "from pandas import DataFrame\n",
    "import nltk\n",
    "\n",
    "data_frame = DataFrame({'compay': '', 'url1': ''})\n",
    "ids = []\n",
    "for d,K in CU:\n",
    "    data_frame = data_frame.append(DataFrame({'compay': d, 'url1': k}))\n",
    "\n",
    "\n"
   ]
  },
  {
   "cell_type": "code",
   "execution_count": null,
   "metadata": {
    "collapsed": true
   },
   "outputs": [],
   "source": [
    "import cPickle"
   ]
  },
  {
   "cell_type": "code",
   "execution_count": null,
   "metadata": {
    "collapsed": true
   },
   "outputs": [],
   "source": []
  },
  {
   "cell_type": "code",
   "execution_count": null,
   "metadata": {
    "collapsed": true
   },
   "outputs": [],
   "source": []
  }
 ],
 "metadata": {
  "kernelspec": {
   "display_name": "Python 2",
   "language": "python",
   "name": "python2"
  },
  "language_info": {
   "codemirror_mode": {
    "name": "ipython",
    "version": 2
   },
   "file_extension": ".py",
   "mimetype": "text/x-python",
   "name": "python",
   "nbconvert_exporter": "python",
   "pygments_lexer": "ipython2",
   "version": "2.7.9"
  }
 },
 "nbformat": 4,
 "nbformat_minor": 0
}
