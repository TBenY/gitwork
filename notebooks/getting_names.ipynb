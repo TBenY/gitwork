{
 "cells": [
  {
   "cell_type": "code",
   "execution_count": 26,
   "metadata": {
    "collapsed": true
   },
   "outputs": [],
   "source": [
    "import pandas as pd"
   ]
  },
  {
   "cell_type": "code",
   "execution_count": 27,
   "metadata": {
    "collapsed": false
   },
   "outputs": [
    {
     "name": "stdout",
     "output_type": "stream",
     "text": [
      "/Users/tbenyakar/Documents/gitwork/notebooks\r\n"
     ]
    }
   ],
   "source": [
    "!pwd"
   ]
  },
  {
   "cell_type": "code",
   "execution_count": 16,
   "metadata": {
    "collapsed": false
   },
   "outputs": [],
   "source": [
    "file = '/Users/tbenyakar/Documents/data/names_first.txt'\n",
    "names = pd.read_csv(file)\n",
    "names = list(names[u'name'])"
   ]
  },
  {
   "cell_type": "code",
   "execution_count": 20,
   "metadata": {
    "collapsed": false
   },
   "outputs": [],
   "source": [
    "import pandas as pd\n",
    "firstname_kb = pd.read_csv(file, encoding=\"utf_8\")\n",
    "firstname_kb['name'] = firstname_kb['name'].str.lower()\n",
    "firstname_kb = firstname_kb.set_index('name').confidence.to_dict()\n",
    "# firstname_kb"
   ]
  },
  {
   "cell_type": "code",
   "execution_count": 23,
   "metadata": {
    "collapsed": false
   },
   "outputs": [],
   "source": [
    "file = '/Users/tbenyakar/Documents/data/titles_kb.csv'\n",
    "firstname_kb = pd.read_csv(file, encoding=\"utf_8\")\n",
    "alltitles = titles+list(firstname_kb['name'].str.lower()[:100])"
   ]
  },
  {
   "cell_type": "code",
   "execution_count": 17,
   "metadata": {
    "collapsed": true
   },
   "outputs": [],
   "source": [
    "titles = ['Co-President', 'Director','chairman', 'ceo', 'chief executive officer', 'vice chairman', 'president', 'svp', 'Executive Vice President', 'manager', 'officer',\n",
    "          'chief marketing officer', 'cmo', 'cfo', 'evp', 'co-founder', 'executive chairman',\n",
    "          'chief financial officer', 'executive vice president', 'chief technology officer', 'vice president',\n",
    "          'chief administrative officer', 'chief information officer']"
   ]
  },
  {
   "cell_type": "code",
   "execution_count": 7,
   "metadata": {
    "collapsed": false
   },
   "outputs": [],
   "source": []
  },
  {
   "cell_type": "code",
   "execution_count": 1,
   "metadata": {
    "collapsed": false
   },
   "outputs": [],
   "source": [
    "# titles"
   ]
  },
  {
   "cell_type": "code",
   "execution_count": 29,
   "metadata": {
    "collapsed": false
   },
   "outputs": [
    {
     "name": "stdout",
     "output_type": "stream",
     "text": [
      "12.1.1\n",
      "/bin/sh: virtualenvwrapper: command not found\n"
     ]
    }
   ],
   "source": [
    "!virtualenv --version\n",
    "!virtualenvwrapper --version"
   ]
  },
  {
   "cell_type": "code",
   "execution_count": 2,
   "metadata": {
    "collapsed": true
   },
   "outputs": [],
   "source": [
    "##"
   ]
  },
  {
   "cell_type": "code",
   "execution_count": 3,
   "metadata": {
    "collapsed": true
   },
   "outputs": [],
   "source": [
    "import nameparser\n",
    "from nameparser import HumanName"
   ]
  },
  {
   "cell_type": "code",
   "execution_count": 9,
   "metadata": {
    "collapsed": true
   },
   "outputs": [],
   "source": [
    "name = HumanName(\"Juan Q. Xavier)\")"
   ]
  },
  {
   "cell_type": "code",
   "execution_count": 10,
   "metadata": {
    "collapsed": false
   },
   "outputs": [
    {
     "data": {
      "text/plain": [
       "nameparser.parser.HumanName"
      ]
     },
     "execution_count": 10,
     "metadata": {},
     "output_type": "execute_result"
    }
   ],
   "source": [
    "type(name)\n",
    "\n"
   ]
  },
  {
   "cell_type": "code",
   "execution_count": 11,
   "metadata": {
    "collapsed": false
   },
   "outputs": [
    {
     "data": {
      "text/plain": [
       "{u'first': u'Juan',\n",
       " u'last': u'Xavier)',\n",
       " u'middle': u'Q.',\n",
       " u'nickname': u'',\n",
       " u'suffix': u'',\n",
       " u'title': u''}"
      ]
     },
     "execution_count": 11,
     "metadata": {},
     "output_type": "execute_result"
    }
   ],
   "source": [
    "name.as_dict()"
   ]
  },
  {
   "cell_type": "code",
   "execution_count": 12,
   "metadata": {
    "collapsed": true
   },
   "outputs": [],
   "source": [
    "matches = [u'Client List', u'Joe Clark', u'Joe Clark', u'Clay Lacy', u'Bill Lear', u'Joe Clark', u'Bill Ashworth', u'Bill Ashworth', u'Mike Stowell', u'Mike Stowell', u'Mike Stowell', u'Chief Commercial Officer', u'Commercial Aviation Services']"
   ]
  },
  {
   "cell_type": "code",
   "execution_count": 22,
   "metadata": {
    "collapsed": false
   },
   "outputs": [],
   "source": [
    "add_typical_words = [''.join(i.split()) for i in matches if len(i.split())>1]"
   ]
  },
  {
   "cell_type": "code",
   "execution_count": 24,
   "metadata": {
    "collapsed": false
   },
   "outputs": [],
   "source": [
    "matches = matches+add_typical_words"
   ]
  },
  {
   "cell_type": "code",
   "execution_count": 25,
   "metadata": {
    "collapsed": false
   },
   "outputs": [
    {
     "data": {
      "text/plain": [
       "[u'Client List',\n",
       " u'Joe Clark',\n",
       " u'Joe Clark',\n",
       " u'Clay Lacy',\n",
       " u'Bill Lear',\n",
       " u'Joe Clark',\n",
       " u'Bill Ashworth',\n",
       " u'Bill Ashworth',\n",
       " u'Mike Stowell',\n",
       " u'Mike Stowell',\n",
       " u'Mike Stowell',\n",
       " u'Chief Commercial Officer',\n",
       " u'Commercial Aviation Services',\n",
       " u'ClientList',\n",
       " u'JoeClark',\n",
       " u'JoeClark',\n",
       " u'ClayLacy',\n",
       " u'BillLear',\n",
       " u'JoeClark',\n",
       " u'BillAshworth',\n",
       " u'BillAshworth',\n",
       " u'MikeStowell',\n",
       " u'MikeStowell',\n",
       " u'MikeStowell',\n",
       " u'ChiefCommercialOfficer',\n",
       " u'CommercialAviationServices']"
      ]
     },
     "execution_count": 25,
     "metadata": {},
     "output_type": "execute_result"
    }
   ],
   "source": [
    "matches"
   ]
  },
  {
   "cell_type": "code",
   "execution_count": 19,
   "metadata": {
    "collapsed": false
   },
   "outputs": [],
   "source": [
    " Names = [HumanName(Name).as_dict() for Name in matches ]"
   ]
  },
  {
   "cell_type": "code",
   "execution_count": 20,
   "metadata": {
    "collapsed": false
   },
   "outputs": [
    {
     "data": {
      "text/plain": [
       "[{u'first': u'Client',\n",
       "  u'last': u'List',\n",
       "  u'middle': u'',\n",
       "  u'nickname': u'',\n",
       "  u'suffix': u'',\n",
       "  u'title': u''},\n",
       " {u'first': u'Joe',\n",
       "  u'last': u'Clark',\n",
       "  u'middle': u'',\n",
       "  u'nickname': u'',\n",
       "  u'suffix': u'',\n",
       "  u'title': u''},\n",
       " {u'first': u'Joe',\n",
       "  u'last': u'Clark',\n",
       "  u'middle': u'',\n",
       "  u'nickname': u'',\n",
       "  u'suffix': u'',\n",
       "  u'title': u''},\n",
       " {u'first': u'Clay',\n",
       "  u'last': u'Lacy',\n",
       "  u'middle': u'',\n",
       "  u'nickname': u'',\n",
       "  u'suffix': u'',\n",
       "  u'title': u''},\n",
       " {u'first': u'Bill',\n",
       "  u'last': u'Lear',\n",
       "  u'middle': u'',\n",
       "  u'nickname': u'',\n",
       "  u'suffix': u'',\n",
       "  u'title': u''},\n",
       " {u'first': u'Joe',\n",
       "  u'last': u'Clark',\n",
       "  u'middle': u'',\n",
       "  u'nickname': u'',\n",
       "  u'suffix': u'',\n",
       "  u'title': u''},\n",
       " {u'first': u'Bill',\n",
       "  u'last': u'Ashworth',\n",
       "  u'middle': u'',\n",
       "  u'nickname': u'',\n",
       "  u'suffix': u'',\n",
       "  u'title': u''},\n",
       " {u'first': u'Bill',\n",
       "  u'last': u'Ashworth',\n",
       "  u'middle': u'',\n",
       "  u'nickname': u'',\n",
       "  u'suffix': u'',\n",
       "  u'title': u''},\n",
       " {u'first': u'Mike',\n",
       "  u'last': u'Stowell',\n",
       "  u'middle': u'',\n",
       "  u'nickname': u'',\n",
       "  u'suffix': u'',\n",
       "  u'title': u''},\n",
       " {u'first': u'Mike',\n",
       "  u'last': u'Stowell',\n",
       "  u'middle': u'',\n",
       "  u'nickname': u'',\n",
       "  u'suffix': u'',\n",
       "  u'title': u''},\n",
       " {u'first': u'Mike',\n",
       "  u'last': u'Stowell',\n",
       "  u'middle': u'',\n",
       "  u'nickname': u'',\n",
       "  u'suffix': u'',\n",
       "  u'title': u''},\n",
       " {u'first': u'Commercial',\n",
       "  u'last': u'Officer',\n",
       "  u'middle': u'',\n",
       "  u'nickname': u'',\n",
       "  u'suffix': u'',\n",
       "  u'title': u'Chief'},\n",
       " {u'first': u'Commercial',\n",
       "  u'last': u'Services',\n",
       "  u'middle': u'Aviation',\n",
       "  u'nickname': u'',\n",
       "  u'suffix': u'',\n",
       "  u'title': u''}]"
      ]
     },
     "execution_count": 20,
     "metadata": {},
     "output_type": "execute_result"
    }
   ],
   "source": [
    "Names"
   ]
  },
  {
   "cell_type": "code",
   "execution_count": null,
   "metadata": {
    "collapsed": true
   },
   "outputs": [],
   "source": []
  }
 ],
 "metadata": {
  "kernelspec": {
   "display_name": "Python 2",
   "language": "python",
   "name": "python2"
  },
  "language_info": {
   "codemirror_mode": {
    "name": "ipython",
    "version": 2
   },
   "file_extension": ".py",
   "mimetype": "text/x-python",
   "name": "python",
   "nbconvert_exporter": "python",
   "pygments_lexer": "ipython2",
   "version": "2.7.9"
  }
 },
 "nbformat": 4,
 "nbformat_minor": 0
}
