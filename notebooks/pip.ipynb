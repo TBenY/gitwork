{
 "cells": [
  {
   "cell_type": "code",
   "execution_count": 37,
   "metadata": {
    "collapsed": true
   },
   "outputs": [],
   "source": [
    "from urlparse import urlparse\n",
    "from yahooboss import BossSearch\n",
    "import json, urllib2, httplib, cPickle\n",
    "import pandas as pd"
   ]
  },
  {
   "cell_type": "code",
   "execution_count": 39,
   "metadata": {
    "collapsed": true
   },
   "outputs": [],
   "source": [
    "titles = ['Co-President', 'Director','chairman', 'ceo', 'chief executive officer', 'vice chairman', 'president', 'svp', 'Executive Vice President', 'manager', 'officer',\n",
    "          'chief marketing officer', 'cmo', 'cfo', 'evp', 'co-founder', 'executive chairman',\n",
    "          'chief financial officer', 'executive vice president', 'chief technology officer', 'vice president',\n",
    "          'chief administrative officer', 'chief information officer']\n",
    "\n",
    "file = '/Users/tbenyakar/Documents/data/titles_kb.csv'\n",
    "firstname_kb = pd.read_csv(file)#, encoding=\"utf_8\")\n",
    "alltitles = titles+list(firstname_kb['name'].str.lower()[:100])\n",
    "\n",
    "cPickle.dump(alltitles, open(\"alltitles.p\", \"wb\" ))"
   ]
  },
  {
   "cell_type": "code",
   "execution_count": 59,
   "metadata": {
    "collapsed": true
   },
   "outputs": [],
   "source": [
    "def readingcsv2list (file):\n",
    "    firstname_kb = pd.read_csv(file)#, encoding=\"utf_8\")\n",
    "    return list(firstname_kb['name'].str.lower())\n",
    "\n"
   ]
  },
  {
   "cell_type": "code",
   "execution_count": 61,
   "metadata": {
    "collapsed": false
   },
   "outputs": [],
   "source": [
    "file = '/Users/tbenyakar/Documents/data/firstname_kb.csv'\n",
    "Fnames = readingcsv2list (file)\n",
    "\n",
    "file = '/Users/tbenyakar/Documents/data/lastname_kb.csv'\n",
    "Lnames = readingcsv2list (file)"
   ]
  },
  {
   "cell_type": "code",
   "execution_count": 63,
   "metadata": {
    "collapsed": false
   },
   "outputs": [
    {
     "data": {
      "text/plain": [
       "['chief administrative officer',\n",
       " 'vice president of engineering',\n",
       " 'ceo and president',\n",
       " 'vice president, marketing',\n",
       " 'vice president, engineering',\n",
       " 'vice president finance and chief financial officer',\n",
       " 'executive vice president and chief credit officer',\n",
       " 'chief technical officer',\n",
       " 'executive vice president, operations',\n",
       " 'chairman, president chief executive officer']"
      ]
     },
     "execution_count": 63,
     "metadata": {},
     "output_type": "execute_result"
    }
   ],
   "source": [
    "titles = cPickle.load( open(\"alltitles.p\", \"rb\" ))\n",
    "titles[-10:]"
   ]
  },
  {
   "cell_type": "code",
   "execution_count": 19,
   "metadata": {
    "collapsed": true
   },
   "outputs": [],
   "source": [
    "def search(company):\n",
    "    bs = BossSearch('dj0yJmk9Nzk2OXZrZU55NG9yJmQ9WVdrOU1rMDVRbU51TlRBbWNHbzlNVE01TXpVeE9UTTJNZy0tJnM9Y29uc3VtZXJzZWNyZXQmeD1hNQ--',\n",
    "                    '2852b12d9ecb9f06203c32a30441208ebd7caeca')\n",
    "    \n",
    "    return bs.search_web(company + ' executive team' )"
   ]
  },
  {
   "cell_type": "code",
   "execution_count": 54,
   "metadata": {
    "collapsed": false
   },
   "outputs": [],
   "source": [
    "# search('target')"
   ]
  },
  {
   "cell_type": "code",
   "execution_count": 21,
   "metadata": {
    "collapsed": true
   },
   "outputs": [],
   "source": [
    "def company_domains(company,domains):\n",
    "    return domains[domains.companyName == company][\"Domain\"].reset_index(drop=True)[0]"
   ]
  },
  {
   "cell_type": "code",
   "execution_count": 38,
   "metadata": {
    "collapsed": true
   },
   "outputs": [],
   "source": [
    "def execs_page(url):\n",
    "    url_domain = urlparse(url).hostname[urlparse(url).hostname.find('.'):]\n",
    "    try:\n",
    "        hdr = {'User-Agent': 'Mozilla/5.0'}\n",
    "        response = urllib2.Request(url,headers=hdr)\n",
    "        html = urllib2.urlopen(response).read()\n",
    "\n",
    "    except Exception, error:\n",
    "        print('---')\n",
    "        pass\n",
    "    return html.lower() , url_domain \n",
    "\n",
    "def score(html,url_domain, company,domains, titles):\n",
    "    grade,job_titles_counter =0, 0\n",
    "    for title in titles:\n",
    "        if title in html:\n",
    "            job_titles_counter += 1\n",
    "    if job_titles_counter > 6:\n",
    "        grade += 0.24\n",
    "    for word in typical_words:\n",
    "        if word in html:\n",
    "            grade += 0.24\n",
    "#                             break\n",
    "\n",
    "    company_domain = urlparse(company_domains(str.lower(company),domains)).hostname\n",
    "    company_host = company_domain[company_domain.find('.'):]\n",
    "    if(url_domain == company_host):\n",
    "        grade += 0.5\n",
    "    return grade\n",
    "\n",
    "\n",
    "    #job_titles_counter = 0\n",
    "    #for entity in response['entities']:\n",
    "    #    if entity['type'] == 'JobTitle':\n",
    "    #        job_titles_counter+=1\n",
    "    #if job_titles_counter > 4:\n",
    "    #    grade+=0.24\n",
    "\n"
   ]
  },
  {
   "cell_type": "code",
   "execution_count": 33,
   "metadata": {
    "collapsed": false
   },
   "outputs": [
    {
     "data": {
      "text/plain": [
       "0.48"
      ]
     },
     "execution_count": 33,
     "metadata": {},
     "output_type": "execute_result"
    }
   ],
   "source": [
    "# url = 'https://info.yahoo.com/management-team'\n",
    "typical_words = ['executives','executive team','executive officers','management team','leadership','corporate officers','executive management','key executives','executive leadership team','company officers','corporate governance','corporate executives','executive bios','leadership executive biographies','leadership team','senior leaders ','executive profiles ','our leaders']\n",
    "titles = ['chairman','ceo','chief executive officer','vice chairman','president','svp','chief marketing officer','cmo','cfo','evp','co-founder','executive chairman','chief financial officer','executive vicepresident','chief technology officer','vice president','chief administrative officer','chief information officer']\n",
    "# html, url_d = execs_page(url)\n",
    "# s  = score(html, url_d,companies[0],domains, titles)\n",
    "s"
   ]
  },
  {
   "cell_type": "code",
   "execution_count": 39,
   "metadata": {
    "collapsed": false
   },
   "outputs": [],
   "source": [
    "domains = pd.read_csv('/Users/tbenyakar/Documents/data/linkedin_companies_domain.csv')\n",
    "domains['companyName'] = domains['companyName'].str.lower()\n",
    "# domains['Domain'] = domains['Domain'].str.lower()\n",
    "companies = list(domains[\"companyName\"][:20])\n",
    "company_url = {}\n"
   ]
  },
  {
   "cell_type": "code",
   "execution_count": 41,
   "metadata": {
    "collapsed": false
   },
   "outputs": [
    {
     "name": "stdout",
     "output_type": "stream",
     "text": [
      "http://www.ibm.com/investor/governance/executive-officers.html\n",
      "https://www.linkedin.com/pub/dir/bobby/swan\n",
      "http://advertising.microsoft.com/en/executive-team\n",
      "http://www.jpmorganchase.com/corporate/About-JPMC/corporate-leadership.htm\n",
      "http://www.glassdoor.com/Salary/Target-Executive-Team-Leader-Salaries-E194_D_KO7,28.htm\n",
      "http://www.careerbliss.com/target/reviews/executive-team-leader/\n",
      "http://www8.hp.com/us/en/hp-information/executive-team/team.html\n",
      "http://www.pwc.com/gx/en/leadership/leadership-team.jhtml\n",
      "http://corporate.walmart.com/our-story/leadership/executive-management/\n",
      "http://www.ey.com/RO/en/Home/Press-release_Adrian-Bunea-Executive-Director_23-December-2013\n"
     ]
    },
    {
     "ename": "TypeError",
     "evalue": "object of type 'NoneType' has no len()",
     "output_type": "error",
     "traceback": [
      "\u001b[0;31m---------------------------------------------------------------------------\u001b[0m",
      "\u001b[0;31mTypeError\u001b[0m                                 Traceback (most recent call last)",
      "\u001b[0;32m<ipython-input-41-343a992354a5>\u001b[0m in \u001b[0;36m<module>\u001b[0;34m()\u001b[0m\n\u001b[1;32m      3\u001b[0m     \u001b[0mpersons\u001b[0m \u001b[0;34m=\u001b[0m \u001b[0;34m[\u001b[0m\u001b[0;34m]\u001b[0m\u001b[0;34m\u001b[0m\u001b[0m\n\u001b[1;32m      4\u001b[0m     \u001b[0mi\u001b[0m\u001b[0;34m=\u001b[0m\u001b[0;36m0\u001b[0m\u001b[0;34m\u001b[0m\u001b[0m\n\u001b[0;32m----> 5\u001b[0;31m     \u001b[0;32mwhile\u001b[0m \u001b[0;34m(\u001b[0m\u001b[0mi\u001b[0m \u001b[0;34m<\u001b[0m \u001b[0;36m6\u001b[0m \u001b[0;32mand\u001b[0m \u001b[0mi\u001b[0m \u001b[0;34m!=\u001b[0m \u001b[0mlen\u001b[0m\u001b[0;34m(\u001b[0m\u001b[0msearch_results\u001b[0m\u001b[0;34m)\u001b[0m\u001b[0;34m)\u001b[0m\u001b[0;34m:\u001b[0m\u001b[0;34m\u001b[0m\u001b[0m\n\u001b[0m\u001b[1;32m      6\u001b[0m         \u001b[0;32mprint\u001b[0m \u001b[0msearch_results\u001b[0m\u001b[0;34m[\u001b[0m\u001b[0mi\u001b[0m\u001b[0;34m]\u001b[0m\u001b[0;34m[\u001b[0m\u001b[0;34m'url'\u001b[0m\u001b[0;34m]\u001b[0m\u001b[0;34m\u001b[0m\u001b[0m\n\u001b[1;32m      7\u001b[0m         \u001b[0mhtml\u001b[0m\u001b[0;34m,\u001b[0m \u001b[0murl_d\u001b[0m \u001b[0;34m=\u001b[0m \u001b[0mexecs_page\u001b[0m\u001b[0;34m(\u001b[0m\u001b[0msearch_results\u001b[0m\u001b[0;34m[\u001b[0m\u001b[0mi\u001b[0m\u001b[0;34m]\u001b[0m\u001b[0;34m[\u001b[0m\u001b[0;34m'url'\u001b[0m\u001b[0;34m]\u001b[0m\u001b[0;34m)\u001b[0m\u001b[0;34m\u001b[0m\u001b[0m\n",
      "\u001b[0;31mTypeError\u001b[0m: object of type 'NoneType' has no len()"
     ]
    }
   ],
   "source": [
    "for company in companies:\n",
    "    search_results = search(company)\n",
    "    persons = []\n",
    "    i=0\n",
    "    while (i < 6 and i != len(search_results)):\n",
    "        print search_results[i]['url']\n",
    "        html, url_d = execs_page(search_results[i]['url'])\n",
    "        s  = score(html, url_d,company,domains, titles)\n",
    "#         response = alchemy_api_access(search_results[i]['url'])\n",
    "        if(s) > 0.5 :\n",
    "            company_url[company] = search_results[i]['url']\n",
    "            break\n",
    "        i+=1\n",
    "    if (i == 6):\n",
    "#         company_url[company] = None\n",
    "        print('---')\n",
    "\n",
    "for key in company_url:\n",
    "    print key\n",
    "    print company_url[key]\n"
   ]
  },
  {
   "cell_type": "code",
   "execution_count": 45,
   "metadata": {
    "collapsed": false
   },
   "outputs": [],
   "source": [
    "search(company)\n"
   ]
  },
  {
   "cell_type": "code",
   "execution_count": 22,
   "metadata": {
    "collapsed": false
   },
   "outputs": [],
   "source": [
    "url = 'https://info.yahoo.com/management-team'"
   ]
  },
  {
   "cell_type": "code",
   "execution_count": 26,
   "metadata": {
    "collapsed": false
   },
   "outputs": [
    {
     "ename": "TypeError",
     "evalue": "expected string or buffer",
     "output_type": "error",
     "traceback": [
      "\u001b[0;31m---------------------------------------------------------------------------\u001b[0m",
      "\u001b[0;31mTypeError\u001b[0m                                 Traceback (most recent call last)",
      "\u001b[0;32m<ipython-input-26-85f848a7e0f0>\u001b[0m in \u001b[0;36m<module>\u001b[0;34m()\u001b[0m\n\u001b[1;32m      1\u001b[0m \u001b[0;32mfrom\u001b[0m \u001b[0mbs4\u001b[0m \u001b[0;32mimport\u001b[0m \u001b[0mBeautifulSoup\u001b[0m\u001b[0;34m\u001b[0m\u001b[0m\n\u001b[0;32m----> 2\u001b[0;31m \u001b[0msoup\u001b[0m \u001b[0;34m=\u001b[0m \u001b[0mBeautifulSoup\u001b[0m\u001b[0;34m(\u001b[0m\u001b[0mhtmlPage\u001b[0m\u001b[0;34m)\u001b[0m\u001b[0;34m\u001b[0m\u001b[0m\n\u001b[0m\u001b[1;32m      3\u001b[0m \u001b[0;34m\u001b[0m\u001b[0m\n\u001b[1;32m      4\u001b[0m \u001b[0;32mprint\u001b[0m\u001b[0;34m(\u001b[0m\u001b[0msoup\u001b[0m\u001b[0;34m.\u001b[0m\u001b[0mprettify\u001b[0m\u001b[0;34m(\u001b[0m\u001b[0;34m)\u001b[0m\u001b[0;34m)\u001b[0m\u001b[0;34m\u001b[0m\u001b[0m\n",
      "\u001b[0;32m/Users/tbenyakar/Documents/ExecURLs/venv/lib/python2.7/site-packages/bs4/__init__.pyc\u001b[0m in \u001b[0;36m__init__\u001b[0;34m(self, markup, features, builder, parse_only, from_encoding, **kwargs)\u001b[0m\n\u001b[1;32m    191\u001b[0m         for (self.markup, self.original_encoding, self.declared_html_encoding,\n\u001b[1;32m    192\u001b[0m          \u001b[0mself\u001b[0m\u001b[0;34m.\u001b[0m\u001b[0mcontains_replacement_characters\u001b[0m\u001b[0;34m)\u001b[0m \u001b[0;32min\u001b[0m \u001b[0;34m(\u001b[0m\u001b[0;34m\u001b[0m\u001b[0m\n\u001b[0;32m--> 193\u001b[0;31m             self.builder.prepare_markup(markup, from_encoding)):\n\u001b[0m\u001b[1;32m    194\u001b[0m             \u001b[0mself\u001b[0m\u001b[0;34m.\u001b[0m\u001b[0mreset\u001b[0m\u001b[0;34m(\u001b[0m\u001b[0;34m)\u001b[0m\u001b[0;34m\u001b[0m\u001b[0m\n\u001b[1;32m    195\u001b[0m             \u001b[0;32mtry\u001b[0m\u001b[0;34m:\u001b[0m\u001b[0;34m\u001b[0m\u001b[0m\n",
      "\u001b[0;32m/Users/tbenyakar/Documents/ExecURLs/venv/lib/python2.7/site-packages/bs4/builder/_lxml.pyc\u001b[0m in \u001b[0;36mprepare_markup\u001b[0;34m(self, markup, user_specified_encoding, document_declared_encoding)\u001b[0m\n\u001b[1;32m     97\u001b[0m         \u001b[0mtry_encodings\u001b[0m \u001b[0;34m=\u001b[0m \u001b[0;34m[\u001b[0m\u001b[0muser_specified_encoding\u001b[0m\u001b[0;34m,\u001b[0m \u001b[0mdocument_declared_encoding\u001b[0m\u001b[0;34m]\u001b[0m\u001b[0;34m\u001b[0m\u001b[0m\n\u001b[1;32m     98\u001b[0m         \u001b[0mdetector\u001b[0m \u001b[0;34m=\u001b[0m \u001b[0mEncodingDetector\u001b[0m\u001b[0;34m(\u001b[0m\u001b[0mmarkup\u001b[0m\u001b[0;34m,\u001b[0m \u001b[0mtry_encodings\u001b[0m\u001b[0;34m,\u001b[0m \u001b[0mis_html\u001b[0m\u001b[0;34m)\u001b[0m\u001b[0;34m\u001b[0m\u001b[0m\n\u001b[0;32m---> 99\u001b[0;31m         \u001b[0;32mfor\u001b[0m \u001b[0mencoding\u001b[0m \u001b[0;32min\u001b[0m \u001b[0mdetector\u001b[0m\u001b[0;34m.\u001b[0m\u001b[0mencodings\u001b[0m\u001b[0;34m:\u001b[0m\u001b[0;34m\u001b[0m\u001b[0m\n\u001b[0m\u001b[1;32m    100\u001b[0m             \u001b[0;32myield\u001b[0m \u001b[0;34m(\u001b[0m\u001b[0mdetector\u001b[0m\u001b[0;34m.\u001b[0m\u001b[0mmarkup\u001b[0m\u001b[0;34m,\u001b[0m \u001b[0mencoding\u001b[0m\u001b[0;34m,\u001b[0m \u001b[0mdocument_declared_encoding\u001b[0m\u001b[0;34m,\u001b[0m \u001b[0mFalse\u001b[0m\u001b[0;34m)\u001b[0m\u001b[0;34m\u001b[0m\u001b[0m\n\u001b[1;32m    101\u001b[0m \u001b[0;34m\u001b[0m\u001b[0m\n",
      "\u001b[0;32m/Users/tbenyakar/Documents/ExecURLs/venv/lib/python2.7/site-packages/bs4/dammit.pyc\u001b[0m in \u001b[0;36mencodings\u001b[0;34m(self)\u001b[0m\n\u001b[1;32m    247\u001b[0m         \u001b[0;32mif\u001b[0m \u001b[0mself\u001b[0m\u001b[0;34m.\u001b[0m\u001b[0mdeclared_encoding\u001b[0m \u001b[0;32mis\u001b[0m \u001b[0mNone\u001b[0m\u001b[0;34m:\u001b[0m\u001b[0;34m\u001b[0m\u001b[0m\n\u001b[1;32m    248\u001b[0m             self.declared_encoding = self.find_declared_encoding(\n\u001b[0;32m--> 249\u001b[0;31m                 self.markup, self.is_html)\n\u001b[0m\u001b[1;32m    250\u001b[0m         \u001b[0;32mif\u001b[0m \u001b[0mself\u001b[0m\u001b[0;34m.\u001b[0m\u001b[0m_usable\u001b[0m\u001b[0;34m(\u001b[0m\u001b[0mself\u001b[0m\u001b[0;34m.\u001b[0m\u001b[0mdeclared_encoding\u001b[0m\u001b[0;34m,\u001b[0m \u001b[0mtried\u001b[0m\u001b[0;34m)\u001b[0m\u001b[0;34m:\u001b[0m\u001b[0;34m\u001b[0m\u001b[0m\n\u001b[1;32m    251\u001b[0m             \u001b[0;32myield\u001b[0m \u001b[0mself\u001b[0m\u001b[0;34m.\u001b[0m\u001b[0mdeclared_encoding\u001b[0m\u001b[0;34m\u001b[0m\u001b[0m\n",
      "\u001b[0;32m/Users/tbenyakar/Documents/ExecURLs/venv/lib/python2.7/site-packages/bs4/dammit.pyc\u001b[0m in \u001b[0;36mfind_declared_encoding\u001b[0;34m(cls, markup, is_html, search_entire_document)\u001b[0m\n\u001b[1;32m    302\u001b[0m \u001b[0;34m\u001b[0m\u001b[0m\n\u001b[1;32m    303\u001b[0m         \u001b[0mdeclared_encoding\u001b[0m \u001b[0;34m=\u001b[0m \u001b[0mNone\u001b[0m\u001b[0;34m\u001b[0m\u001b[0m\n\u001b[0;32m--> 304\u001b[0;31m         \u001b[0mdeclared_encoding_match\u001b[0m \u001b[0;34m=\u001b[0m \u001b[0mxml_encoding_re\u001b[0m\u001b[0;34m.\u001b[0m\u001b[0msearch\u001b[0m\u001b[0;34m(\u001b[0m\u001b[0mmarkup\u001b[0m\u001b[0;34m,\u001b[0m \u001b[0mendpos\u001b[0m\u001b[0;34m=\u001b[0m\u001b[0mxml_endpos\u001b[0m\u001b[0;34m)\u001b[0m\u001b[0;34m\u001b[0m\u001b[0m\n\u001b[0m\u001b[1;32m    305\u001b[0m         \u001b[0;32mif\u001b[0m \u001b[0;32mnot\u001b[0m \u001b[0mdeclared_encoding_match\u001b[0m \u001b[0;32mand\u001b[0m \u001b[0mis_html\u001b[0m\u001b[0;34m:\u001b[0m\u001b[0;34m\u001b[0m\u001b[0m\n\u001b[1;32m    306\u001b[0m             \u001b[0mdeclared_encoding_match\u001b[0m \u001b[0;34m=\u001b[0m \u001b[0mhtml_meta_re\u001b[0m\u001b[0;34m.\u001b[0m\u001b[0msearch\u001b[0m\u001b[0;34m(\u001b[0m\u001b[0mmarkup\u001b[0m\u001b[0;34m,\u001b[0m \u001b[0mendpos\u001b[0m\u001b[0;34m=\u001b[0m\u001b[0mhtml_endpos\u001b[0m\u001b[0;34m)\u001b[0m\u001b[0;34m\u001b[0m\u001b[0m\n",
      "\u001b[0;31mTypeError\u001b[0m: expected string or buffer"
     ]
    }
   ],
   "source": [
    "from bs4 import BeautifulSoup\n",
    "soup = BeautifulSoup(htmlPage)\n",
    "\n",
    "print(soup.prettify())"
   ]
  },
  {
   "cell_type": "code",
   "execution_count": 15,
   "metadata": {
    "collapsed": true
   },
   "outputs": [],
   "source": [
    "soup.title"
   ]
  },
  {
   "cell_type": "code",
   "execution_count": 16,
   "metadata": {
    "collapsed": false
   },
   "outputs": [
    {
     "ename": "AttributeError",
     "evalue": "'NoneType' object has no attribute 'name'",
     "output_type": "error",
     "traceback": [
      "\u001b[0;31m---------------------------------------------------------------------------\u001b[0m",
      "\u001b[0;31mAttributeError\u001b[0m                            Traceback (most recent call last)",
      "\u001b[0;32m<ipython-input-16-31aa5680272d>\u001b[0m in \u001b[0;36m<module>\u001b[0;34m()\u001b[0m\n\u001b[0;32m----> 1\u001b[0;31m \u001b[0msoup\u001b[0m\u001b[0;34m.\u001b[0m\u001b[0mtitle\u001b[0m\u001b[0;34m.\u001b[0m\u001b[0mname\u001b[0m\u001b[0;34m\u001b[0m\u001b[0m\n\u001b[0m",
      "\u001b[0;31mAttributeError\u001b[0m: 'NoneType' object has no attribute 'name'"
     ]
    }
   ],
   "source": [
    "soup.title.name"
   ]
  },
  {
   "cell_type": "code",
   "execution_count": 20,
   "metadata": {
    "collapsed": true
   },
   "outputs": [],
   "source": [
    "def execs_page(url):\n",
    "    url_domain = urlparse(url).hostname[urlparse(url).hostname.find('.'):]\n",
    "    try:\n",
    "        hdr = {'User-Agent': 'Mozilla/5.0'}\n",
    "        response = urllib2.Request(url, headers=hdr)\n",
    "        html = urllib2.urlopen(response).read()\n",
    "        return html.lower(), url_domain\n",
    "    except Exception, error:\n",
    "        print('---')\n",
    "        pass\n",
    "    return"
   ]
  },
  {
   "cell_type": "code",
   "execution_count": 24,
   "metadata": {
    "collapsed": false
   },
   "outputs": [],
   "source": [
    "htmlPage = execs_page(url)"
   ]
  },
  {
   "cell_type": "code",
   "execution_count": 36,
   "metadata": {
    "collapsed": false
   },
   "outputs": [
    {
     "name": "stdout",
     "output_type": "stream",
     "text": [
      "PNC Bank - Leadership Team\n",
      "<p>Personal and Small Business:</p>\n",
      "<a href=\"https://www.google.com/intl/en/chrome/browser/\" target=\"_blank\"><img alt=\"Get Chrome\" src=\"/content/dam/pnc-com/images/universal/btn_hom_getchrome.gif\"/></a>\n"
     ]
    }
   ],
   "source": [
    "from bs4 import BeautifulSoup\n",
    "import urllib2\n",
    "\n",
    "url = \"https://www.pnc.com/en/about-pnc/company-profile/leadership-team.html\"\n",
    "\n",
    "content = urllib2.urlopen(url).read()\n",
    "\n",
    "soup = BeautifulSoup(content)\n",
    "\n",
    "# print soup.prettify()\n",
    "# print title\n",
    "\n",
    "print soup.title.string\n",
    "\n",
    "\n",
    "print soup.p\n",
    " \n",
    "\n",
    "\n",
    "print soup.a"
   ]
  },
  {
   "cell_type": "code",
   "execution_count": null,
   "metadata": {
    "collapsed": true
   },
   "outputs": [],
   "source": []
  }
 ],
 "metadata": {
  "kernelspec": {
   "display_name": "Python 2",
   "language": "python",
   "name": "python2"
  },
  "language_info": {
   "codemirror_mode": {
    "name": "ipython",
    "version": 2
   },
   "file_extension": ".py",
   "mimetype": "text/x-python",
   "name": "python",
   "nbconvert_exporter": "python",
   "pygments_lexer": "ipython2",
   "version": "2.7.9"
  }
 },
 "nbformat": 4,
 "nbformat_minor": 0
}
